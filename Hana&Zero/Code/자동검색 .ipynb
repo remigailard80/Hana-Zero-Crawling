{
 "cells": [
  {
   "cell_type": "code",
   "execution_count": 6,
   "metadata": {},
   "outputs": [],
   "source": [
    "import pandas as pd\n",
    "import numpy as np\n",
    "import os\n",
    "from tqdm import tqdm\n",
    "from selenium import webdriver\n",
    "import random\n",
    "from selenium.webdriver.common.keys import Keys"
   ]
  },
  {
   "cell_type": "code",
   "execution_count": 13,
   "metadata": {},
   "outputs": [],
   "source": [
    "# dataset\n",
    "\n",
    "df = pd.read_pickle(os.getcwd()+'\\\\final1.pkl')\n",
    "\n",
    "def choice(x):\n",
    "    try:\n",
    "        return random.choice(df[df['위치'].isin([str(x)])]['이름'].ravel())\n",
    "    except:\n",
    "        print(\"참살이, 정후, 정문앞, 이공계후문, 법후, 고대사거리 중 입력하세요\")\n",
    "\n",
    "input_value = str(input('지역(참살이, 정후, 정문앞, 이공계후문, 법후, 고대사거리 중 입력하세요)'))"
   ]
  },
  {
   "cell_type": "code",
   "execution_count": 15,
   "metadata": {},
   "outputs": [],
   "source": [
    "# random.choice(df['이름'])\n",
    "\n",
    "driver = webdriver.Chrome(os.getcwd()+'\\\\chromedriver.exe')\n",
    "driver.implicitly_wait(3)\n",
    "\n",
    "driver.get(\"https://www.koreapas.com/m/sofo_result.php\")\n",
    "\n",
    "searchbutton = driver.find_element_by_xpath('//*[@id=\"header\"]/div[2]/div/i')\n",
    "searchbutton.click()\n",
    "\n",
    "searchtext = driver.find_element_by_xpath('//*[@id=\"query\"]')\n",
    "searchtext.send_keys(choice(input_value))\n",
    "searchtext.send_keys(Keys.RETURN)\n",
    "\n",
    "searched = driver.find_element_by_xpath('//*[@id=\"list\"]/table/tbody/tr[2]/td[2]/span[1]')\n",
    "searched.click()\n"
   ]
  }
 ],
 "metadata": {
  "kernelspec": {
   "display_name": "Python 3",
   "language": "python",
   "name": "python3"
  },
  "language_info": {
   "codemirror_mode": {
    "name": "ipython",
    "version": 3
   },
   "file_extension": ".py",
   "mimetype": "text/x-python",
   "name": "python",
   "nbconvert_exporter": "python",
   "pygments_lexer": "ipython3",
   "version": "3.7.3"
  }
 },
 "nbformat": 4,
 "nbformat_minor": 2
}
