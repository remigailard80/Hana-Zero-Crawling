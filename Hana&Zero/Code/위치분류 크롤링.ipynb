{
 "cells": [
  {
   "cell_type": "code",
   "execution_count": 112,
   "metadata": {},
   "outputs": [],
   "source": [
    "import pandas as pd\n",
    "import numpy as np\n",
    "import os\n",
    "import time\n",
    "from tqdm import tqdm\n",
    "from selenium import webdriver\n",
    "from bs4 import BeautifulSoup as bs\n",
    "from urllib.request import urlopen"
   ]
  },
  {
   "cell_type": "code",
   "execution_count": 113,
   "metadata": {},
   "outputs": [],
   "source": [
    "html = urlopen(\"https://www.koreapas.com/m/sofo_result.php?tagkeyword=%C2%FC%BB%EC%C0%CC%B1%E6\")\n",
    "soup = bs(html,\"html.parser\")"
   ]
  },
  {
   "cell_type": "code",
   "execution_count": 114,
   "metadata": {},
   "outputs": [
    {
     "data": {
      "text/plain": [
       "[<span class=\"ani\" style=\"line-height:28px;font-weight:700;letter-spacing:-1px;font-size:16px;\">히포크라테스 스프  </span>,\n",
       " <span class=\"ani\" style=\"line-height:28px;font-weight:700;letter-spacing:-1px;font-size:16px;\">미스터국밥 </span>,\n",
       " <span class=\"ani\" style=\"line-height:28px;font-weight:700;letter-spacing:-1px;font-size:16px;\">고고인디안쿠진 1호점 </span>,\n",
       " <span class=\"ani\" style=\"line-height:28px;font-weight:700;letter-spacing:-1px;font-size:16px;\">프로마치 </span>,\n",
       " <span class=\"ani\" style=\"line-height:28px;font-weight:700;letter-spacing:-1px;font-size:16px;\">데일리트로피칼 </span>,\n",
       " <span class=\"ani\" style=\"line-height:28px;font-weight:700;letter-spacing:-1px;font-size:16px;\">트라타 </span>,\n",
       " <span class=\"ani\" style=\"line-height:28px;font-weight:700;letter-spacing:-1px;font-size:16px;\">닭잡는파로 고대점 </span>,\n",
       " <span class=\"ani\" style=\"line-height:28px;font-weight:700;letter-spacing:-1px;font-size:16px;\">베나레스 </span>,\n",
       " <span class=\"ani\" style=\"line-height:28px;font-weight:700;letter-spacing:-1px;font-size:16px;\">토로 생선구이 </span>,\n",
       " <span class=\"ani\" style=\"line-height:28px;font-weight:700;letter-spacing:-1px;font-size:16px;\">카페 다다랩 </span>,\n",
       " <span class=\"ani\" style=\"line-height:28px;font-weight:700;letter-spacing:-1px;font-size:16px;\">무르무르드구스토 </span>,\n",
       " <span class=\"ani\" style=\"line-height:28px;font-weight:700;letter-spacing:-1px;font-size:16px;\">오샬 </span>,\n",
       " <span class=\"ani\" style=\"line-height:28px;font-weight:700;letter-spacing:-1px;font-size:16px;\">고품콩 </span>,\n",
       " <span class=\"ani\" style=\"line-height:28px;font-weight:700;letter-spacing:-1px;font-size:16px;\">마이셰프 (My Chef) </span>,\n",
       " <span class=\"ani\" style=\"line-height:28px;font-weight:700;letter-spacing:-1px;font-size:16px;\">쿠이도라쿠 </span>]"
      ]
     },
     "execution_count": 114,
     "metadata": {},
     "output_type": "execute_result"
    }
   ],
   "source": [
    "soup.find_all('span',{'class':'ani'})"
   ]
  },
  {
   "cell_type": "code",
   "execution_count": 115,
   "metadata": {},
   "outputs": [],
   "source": [
    "list_rest = []\n",
    "\n",
    "# url 따오기\n",
    "# https://www.koreapas.com/m/sofo_result_more.php?tagkeyword=%EC%B0%B8%EC%82%B4%EC%9D%B4%EA%B8%B8&page=3\n",
    "# https://www.koreapas.com/m/sofo_result_more.php?tagkeyword=%EC%B0%B8%EC%82%B4%EC%9D%B4%EA%B8%B8&\n",
    "\n",
    "urls = []\n",
    "\n",
    "for i in range(1,18):\n",
    "    urls.append(\"https://www.koreapas.com/m/sofo_result_more.php?tagkeyword=%EC%B0%B8%EC%82%B4%EC%9D%B4%EA%B8%B8&page=\" + str(i))\n",
    "    \n",
    "# 가게이름 따오기\n",
    "\n",
    "def g(x):\n",
    "    \n",
    "    global list_rest\n",
    "    global urls\n",
    "    \n",
    "    html = urlopen(urls[x])\n",
    "    soup = bs(html,\"html.parser\")\n",
    "    \n",
    "    list_rest.append(soup.find_all(\"span\",{\"class\":\"ani\"}))\n"
   ]
  },
  {
   "cell_type": "code",
   "execution_count": 116,
   "metadata": {},
   "outputs": [
    {
     "name": "stderr",
     "output_type": "stream",
     "text": [
      "100%|██████████████████████████████████████████████████████████████████████████████████| 17/17 [00:06<00:00,  2.66it/s]\n"
     ]
    }
   ],
   "source": [
    "for i in tqdm(range(len(urls))):\n",
    "    g(i)\n",
    "\n",
    "del list_rest[16]\n",
    "del list_rest[15]"
   ]
  },
  {
   "cell_type": "code",
   "execution_count": 117,
   "metadata": {},
   "outputs": [
    {
     "data": {
      "text/plain": [
       "[[<span class=\"ani\" style=\"line-height:28px;font-weight:700;letter-spacing:-1px;font-size:16px;\">히포크라테스 스프  </span>,\n",
       "  <span class=\"ani\" style=\"line-height:28px;font-weight:700;letter-spacing:-1px;font-size:16px;\">미스터국밥 </span>,\n",
       "  <span class=\"ani\" style=\"line-height:28px;font-weight:700;letter-spacing:-1px;font-size:16px;\">고고인디안쿠진 1호점 </span>,\n",
       "  <span class=\"ani\" style=\"line-height:28px;font-weight:700;letter-spacing:-1px;font-size:16px;\">프로마치 </span>,\n",
       "  <span class=\"ani\" style=\"line-height:28px;font-weight:700;letter-spacing:-1px;font-size:16px;\">데일리트로피칼 </span>,\n",
       "  <span class=\"ani\" style=\"line-height:28px;font-weight:700;letter-spacing:-1px;font-size:16px;\">트라타 </span>,\n",
       "  <span class=\"ani\" style=\"line-height:28px;font-weight:700;letter-spacing:-1px;font-size:16px;\">닭잡는파로 고대점 </span>,\n",
       "  <span class=\"ani\" style=\"line-height:28px;font-weight:700;letter-spacing:-1px;font-size:16px;\">베나레스 </span>,\n",
       "  <span class=\"ani\" style=\"line-height:28px;font-weight:700;letter-spacing:-1px;font-size:16px;\">토로 생선구이 </span>,\n",
       "  <span class=\"ani\" style=\"line-height:28px;font-weight:700;letter-spacing:-1px;font-size:16px;\">카페 다다랩 </span>,\n",
       "  <span class=\"ani\" style=\"line-height:28px;font-weight:700;letter-spacing:-1px;font-size:16px;\">무르무르드구스토 </span>,\n",
       "  <span class=\"ani\" style=\"line-height:28px;font-weight:700;letter-spacing:-1px;font-size:16px;\">오샬 </span>,\n",
       "  <span class=\"ani\" style=\"line-height:28px;font-weight:700;letter-spacing:-1px;font-size:16px;\">고품콩 </span>,\n",
       "  <span class=\"ani\" style=\"line-height:28px;font-weight:700;letter-spacing:-1px;font-size:16px;\">마이셰프 (My Chef) </span>,\n",
       "  <span class=\"ani\" style=\"line-height:28px;font-weight:700;letter-spacing:-1px;font-size:16px;\">쿠이도라쿠 </span>],\n",
       " [<span class=\"ani\" style=\"line-height:28px;font-weight:700;letter-spacing:-1px;font-size:16px;\">하트 카페 (hart cafe) </span>,\n",
       "  <span class=\"ani\" style=\"line-height:28px;font-weight:700;letter-spacing:-1px;font-size:16px;\">배키우동 </span>,\n",
       "  <span class=\"ani\" style=\"line-height:28px;font-weight:700;letter-spacing:-1px;font-size:16px;\">야마토텐동 </span>,\n",
       "  <span class=\"ani\" style=\"line-height:28px;font-weight:700;letter-spacing:-1px;font-size:16px;\">와플앨리 </span>,\n",
       "  <span class=\"ani\" style=\"line-height:28px;font-weight:700;letter-spacing:-1px;font-size:16px;\">본샤브칼국수 </span>,\n",
       "  <span class=\"ani\" style=\"line-height:28px;font-weight:700;letter-spacing:-1px;font-size:16px;\">북경양꼬치 </span>,\n",
       "  <span class=\"ani\" style=\"line-height:28px;font-weight:700;letter-spacing:-1px;font-size:16px;\">모이리타 </span>,\n",
       "  <span class=\"ani\" style=\"line-height:28px;font-weight:700;letter-spacing:-1px;font-size:16px;\">춘자 </span>,\n",
       "  <span class=\"ani\" style=\"line-height:28px;font-weight:700;letter-spacing:-1px;font-size:16px;\">마카나이 </span>,\n",
       "  <span class=\"ani\" style=\"line-height:28px;font-weight:700;letter-spacing:-1px;font-size:16px;\">준성이네 무떡볶이 </span>,\n",
       "  <span class=\"ani\" style=\"line-height:28px;font-weight:700;letter-spacing:-1px;font-size:16px;\">치폴레옹 </span>,\n",
       "  <span class=\"ani\" style=\"line-height:28px;font-weight:700;letter-spacing:-1px;font-size:16px;\">가츠시돈까스 </span>,\n",
       "  <span class=\"ani\" style=\"line-height:28px;font-weight:700;letter-spacing:-1px;font-size:16px;\">우빠 스테이크 </span>,\n",
       "  <span class=\"ani\" style=\"line-height:28px;font-weight:700;letter-spacing:-1px;font-size:16px;\">남이네 분식 </span>,\n",
       "  <span class=\"ani\" style=\"line-height:28px;font-weight:700;letter-spacing:-1px;font-size:16px;\">반지 </span>],\n",
       " [<span class=\"ani\" style=\"line-height:28px;font-weight:700;letter-spacing:-1px;font-size:16px;\">꼬꼬아찌 </span>,\n",
       "  <span class=\"ani\" style=\"line-height:28px;font-weight:700;letter-spacing:-1px;font-size:16px;\">바 라라 라디오 </span>,\n",
       "  <span class=\"ani\" style=\"line-height:28px;font-weight:700;letter-spacing:-1px;font-size:16px;\">더 헙 thehub </span>,\n",
       "  <span class=\"ani\" style=\"line-height:28px;font-weight:700;letter-spacing:-1px;font-size:16px;\">안암아줌마치킨 </span>,\n",
       "  <span class=\"ani\" style=\"line-height:28px;font-weight:700;letter-spacing:-1px;font-size:16px;\">모이리따 </span>,\n",
       "  <span class=\"ani\" style=\"line-height:28px;font-weight:700;letter-spacing:-1px;font-size:16px;\">드록바 </span>,\n",
       "  <span class=\"ani\" style=\"line-height:28px;font-weight:700;letter-spacing:-1px;font-size:16px;\">스시바 </span>,\n",
       "  <span class=\"ani\" style=\"line-height:28px;font-weight:700;letter-spacing:-1px;font-size:16px;\">안암꼬치 </span>,\n",
       "  <span class=\"ani\" style=\"line-height:28px;font-weight:700;letter-spacing:-1px;font-size:16px;\">붐바타 </span>,\n",
       "  <span class=\"ani\" style=\"line-height:28px;font-weight:700;letter-spacing:-1px;font-size:16px;\">고고인디안쿠진 2호점 </span>,\n",
       "  <span class=\"ani\" style=\"line-height:28px;font-weight:700;letter-spacing:-1px;font-size:16px;\">소담식당 </span>,\n",
       "  <span class=\"ani\" style=\"line-height:28px;font-weight:700;letter-spacing:-1px;font-size:16px;\">마루가메제면 </span>,\n",
       "  <span class=\"ani\" style=\"line-height:28px;font-weight:700;letter-spacing:-1px;font-size:16px;\">금룡짬뽕 </span>,\n",
       "  <span class=\"ani\" style=\"line-height:28px;font-weight:700;letter-spacing:-1px;font-size:16px;\">투고샐러드 고려대점 </span>,\n",
       "  <span class=\"ani\" style=\"line-height:28px;font-weight:700;letter-spacing:-1px;font-size:16px;\">크림스치킨비어 고대안암점 </span>],\n",
       " [<span class=\"ani\" style=\"line-height:28px;font-weight:700;letter-spacing:-1px;font-size:16px;\">이츠 스테이크 </span>,\n",
       "  <span class=\"ani\" style=\"line-height:28px;font-weight:700;letter-spacing:-1px;font-size:16px;\">병천한방토종순대 </span>,\n",
       "  <span class=\"ani\" style=\"line-height:28px;font-weight:700;letter-spacing:-1px;font-size:16px;\">58도씨 </span>,\n",
       "  <span class=\"ani\" style=\"line-height:28px;font-weight:700;letter-spacing:-1px;font-size:16px;\">땡전집 </span>,\n",
       "  <span class=\"ani\" style=\"line-height:28px;font-weight:700;letter-spacing:-1px;font-size:16px;\">신룽푸마라탕 </span>,\n",
       "  <span class=\"ani\" style=\"line-height:28px;font-weight:700;letter-spacing:-1px;font-size:16px;\">카우보이 </span>,\n",
       "  <span class=\"ani\" style=\"line-height:28px;font-weight:700;letter-spacing:-1px;font-size:16px;\">산적 </span>,\n",
       "  <span class=\"ani\" style=\"line-height:28px;font-weight:700;letter-spacing:-1px;font-size:16px;\">이번지깡통집 </span>,\n",
       "  <span class=\"ani\" style=\"line-height:28px;font-weight:700;letter-spacing:-1px;font-size:16px;\">국수먹는꼴뚜기 </span>,\n",
       "  <span class=\"ani\" style=\"line-height:28px;font-weight:700;letter-spacing:-1px;font-size:16px;\">니뽕내뽕 고려대점 </span>,\n",
       "  <span class=\"ani\" style=\"line-height:28px;font-weight:700;letter-spacing:-1px;font-size:16px;\">NO85 </span>,\n",
       "  <span class=\"ani\" style=\"line-height:28px;font-weight:700;letter-spacing:-1px;font-size:16px;\">한잔의추억 </span>,\n",
       "  <span class=\"ani\" style=\"line-height:28px;font-weight:700;letter-spacing:-1px;font-size:16px;\">동s꼬지 </span>,\n",
       "  <span class=\"ani\" style=\"line-height:28px;font-weight:700;letter-spacing:-1px;font-size:16px;\">일품 </span>,\n",
       "  <span class=\"ani\" style=\"line-height:28px;font-weight:700;letter-spacing:-1px;font-size:16px;\">고대고기집 </span>],\n",
       " [<span class=\"ani\" style=\"line-height:28px;font-weight:700;letter-spacing:-1px;font-size:16px;\">만복치킨 </span>,\n",
       "  <span class=\"ani\" style=\"line-height:28px;font-weight:700;letter-spacing:-1px;font-size:16px;\">사천 샤브샤브 훠궈 </span>,\n",
       "  <span class=\"ani\" style=\"line-height:28px;font-weight:700;letter-spacing:-1px;font-size:16px;\">eggy (에기) </span>,\n",
       "  <span class=\"ani\" style=\"line-height:28px;font-weight:700;letter-spacing:-1px;font-size:16px;\">참숯불3392 </span>,\n",
       "  <span class=\"ani\" style=\"line-height:28px;font-weight:700;letter-spacing:-1px;font-size:16px;\">지금,보고싶다 </span>,\n",
       "  <span class=\"ani\" style=\"line-height:28px;font-weight:700;letter-spacing:-1px;font-size:16px;\">아시안 콘티넨탈 쿠진 </span>,\n",
       "  <span class=\"ani\" style=\"line-height:28px;font-weight:700;letter-spacing:-1px;font-size:16px;\">통툰 만화까페 </span>,\n",
       "  <span class=\"ani\" style=\"line-height:28px;font-weight:700;letter-spacing:-1px;font-size:16px;\">와플대학 </span>,\n",
       "  <span class=\"ani\" style=\"line-height:28px;font-weight:700;letter-spacing:-1px;font-size:16px;\">빨간모자피자 고대점 </span>,\n",
       "  <span class=\"ani\" style=\"line-height:28px;font-weight:700;letter-spacing:-1px;font-size:16px;\">차얌(CHAYAM) </span>,\n",
       "  <span class=\"ani\" style=\"line-height:28px;font-weight:700;letter-spacing:-1px;font-size:16px;\">가제트술집 </span>,\n",
       "  <span class=\"ani\" style=\"line-height:28px;font-weight:700;letter-spacing:-1px;font-size:16px;\">유자유 </span>,\n",
       "  <span class=\"ani\" style=\"line-height:28px;font-weight:700;letter-spacing:-1px;font-size:16px;\">맛닭꼬 </span>,\n",
       "  <span class=\"ani\" style=\"line-height:28px;font-weight:700;letter-spacing:-1px;font-size:16px;\">내가 찜한 닭 </span>,\n",
       "  <span class=\"ani\" style=\"line-height:28px;font-weight:700;letter-spacing:-1px;font-size:16px;\">투나스 </span>],\n",
       " [<span class=\"ani\" style=\"line-height:28px;font-weight:700;letter-spacing:-1px;font-size:16px;\">휘모리 </span>,\n",
       "  <span class=\"ani\" style=\"line-height:28px;font-weight:700;letter-spacing:-1px;font-size:16px;\">맥도날드 안암점 </span>,\n",
       "  <span class=\"ani\" style=\"line-height:28px;font-weight:700;letter-spacing:-1px;font-size:16px;\">Azit anam (아지트 안암) </span>,\n",
       "  <span class=\"ani\" style=\"line-height:28px;font-weight:700;letter-spacing:-1px;font-size:16px;\">coffee zip </span>,\n",
       "  <span class=\"ani\" style=\"line-height:28px;font-weight:700;letter-spacing:-1px;font-size:16px;\">고깃집 </span>,\n",
       "  <span class=\"ani\" style=\"line-height:28px;font-weight:700;letter-spacing:-1px;font-size:16px;\">커피소 </span>,\n",
       "  <span class=\"ani\" style=\"line-height:28px;font-weight:700;letter-spacing:-1px;font-size:16px;\">고대양꼬치 </span>,\n",
       "  <span class=\"ani\" style=\"line-height:28px;font-weight:700;letter-spacing:-1px;font-size:16px;\">주당 </span>,\n",
       "  <span class=\"ani\" style=\"line-height:28px;font-weight:700;letter-spacing:-1px;font-size:16px;\">신포1971 안암점 </span>,\n",
       "  <span class=\"ani\" style=\"line-height:28px;font-weight:700;letter-spacing:-1px;font-size:16px;\">TLC (티엘씨) </span>,\n",
       "  <span class=\"ani\" style=\"line-height:28px;font-weight:700;letter-spacing:-1px;font-size:16px;\">설빙 서울고대점 </span>,\n",
       "  <span class=\"ani\" style=\"line-height:28px;font-weight:700;letter-spacing:-1px;font-size:16px;\">영자`s 곱창 </span>,\n",
       "  <span class=\"ani\" style=\"line-height:28px;font-weight:700;letter-spacing:-1px;font-size:16px;\">피카커피 </span>,\n",
       "  <span class=\"ani\" style=\"line-height:28px;font-weight:700;letter-spacing:-1px;font-size:16px;\">홍콩반점0410 고대안암점 </span>,\n",
       "  <span class=\"ani\" style=\"line-height:28px;font-weight:700;letter-spacing:-1px;font-size:16px;\">청년다방 고대안암점 </span>],\n",
       " [<span class=\"ani\" style=\"line-height:28px;font-weight:700;letter-spacing:-1px;font-size:16px;\">은화수식당 </span>,\n",
       "  <span class=\"ani\" style=\"line-height:28px;font-weight:700;letter-spacing:-1px;font-size:16px;\">미각 고대본점 </span>,\n",
       "  <span class=\"ani\" style=\"line-height:28px;font-weight:700;letter-spacing:-1px;font-size:16px;\">두끼떡볶이 고대점 </span>,\n",
       "  <span class=\"ani\" style=\"line-height:28px;font-weight:700;letter-spacing:-1px;font-size:16px;\">쪼끼쪼끼 안암역점 </span>,\n",
       "  <span class=\"ani\" style=\"line-height:28px;font-weight:700;letter-spacing:-1px;font-size:16px;\">38포차 </span>,\n",
       "  <span class=\"ani\" style=\"line-height:28px;font-weight:700;letter-spacing:-1px;font-size:16px;\">뜨락 </span>,\n",
       "  <span class=\"ani\" style=\"line-height:28px;font-weight:700;letter-spacing:-1px;font-size:16px;\">사보텐 고대점 </span>,\n",
       "  <span class=\"ani\" style=\"line-height:28px;font-weight:700;letter-spacing:-1px;font-size:16px;\">맥주창고 </span>,\n",
       "  <span class=\"ani\" style=\"line-height:28px;font-weight:700;letter-spacing:-1px;font-size:16px;\">미스터피자 고대점 </span>,\n",
       "  <span class=\"ani\" style=\"line-height:28px;font-weight:700;letter-spacing:-1px;font-size:16px;\">준호네부대찌개 고대형제점 </span>,\n",
       "  <span class=\"ani\" style=\"line-height:28px;font-weight:700;letter-spacing:-1px;font-size:16px;\">싱싱오징어바다 안암고대점 </span>,\n",
       "  <span class=\"ani\" style=\"line-height:28px;font-weight:700;letter-spacing:-1px;font-size:16px;\">황제곱창 고대본점 </span>,\n",
       "  <span class=\"ani\" style=\"line-height:28px;font-weight:700;letter-spacing:-1px;font-size:16px;\">찌개집 </span>,\n",
       "  <span class=\"ani\" style=\"line-height:28px;font-weight:700;letter-spacing:-1px;font-size:16px;\">정만빙수 2호점 </span>,\n",
       "  <span class=\"ani\" style=\"line-height:28px;font-weight:700;letter-spacing:-1px;font-size:16px;\">투엔디 </span>],\n",
       " [<span class=\"ani\" style=\"line-height:28px;font-weight:700;letter-spacing:-1px;font-size:16px;\">막걸리찬가 </span>,\n",
       "  <span class=\"ani\" style=\"line-height:28px;font-weight:700;letter-spacing:-1px;font-size:16px;\">베트남 노상식당 </span>,\n",
       "  <span class=\"ani\" style=\"line-height:28px;font-weight:700;letter-spacing:-1px;font-size:16px;\">서브웨이 고려대점 </span>,\n",
       "  <span class=\"ani\" style=\"line-height:28px;font-weight:700;letter-spacing:-1px;font-size:16px;\">육쌈냉면 고대점 </span>,\n",
       "  <span class=\"ani\" style=\"line-height:28px;font-weight:700;letter-spacing:-1px;font-size:16px;\">레드컵스 </span>,\n",
       "  <span class=\"ani\" style=\"line-height:28px;font-weight:700;letter-spacing:-1px;font-size:16px;\">동네푸줏간 </span>,\n",
       "  <span class=\"ani\" style=\"line-height:28px;font-weight:700;letter-spacing:-1px;font-size:16px;\">MEDIT CAFE (메디트) </span>,\n",
       "  <span class=\"ani\" style=\"line-height:28px;font-weight:700;letter-spacing:-1px;font-size:16px;\">딩굴 </span>,\n",
       "  <span class=\"ani\" style=\"line-height:28px;font-weight:700;letter-spacing:-1px;font-size:16px;\">한끼부산돼지국밥 </span>,\n",
       "  <span class=\"ani\" style=\"line-height:28px;font-weight:700;letter-spacing:-1px;font-size:16px;\">쥬씨 고려대점 </span>,\n",
       "  <span class=\"ani\" style=\"line-height:28px;font-weight:700;letter-spacing:-1px;font-size:16px;\">호미불닭발 고대안암점 </span>,\n",
       "  <span class=\"ani\" style=\"line-height:28px;font-weight:700;letter-spacing:-1px;font-size:16px;\">뒤풀이포차 </span>,\n",
       "  <span class=\"ani\" style=\"line-height:28px;font-weight:700;letter-spacing:-1px;font-size:16px;\">쿠마 (kuma) </span>,\n",
       "  <span class=\"ani\" style=\"line-height:28px;font-weight:700;letter-spacing:-1px;font-size:16px;\">충만치킨 고대점 </span>,\n",
       "  <span class=\"ani\" style=\"line-height:28px;font-weight:700;letter-spacing:-1px;font-size:16px;\">죠스떡볶이 고대점 </span>],\n",
       " [<span class=\"ani\" style=\"line-height:28px;font-weight:700;letter-spacing:-1px;font-size:16px;\">노랑통닭 </span>,\n",
       "  <span class=\"ani\" style=\"line-height:28px;font-weight:700;letter-spacing:-1px;font-size:16px;\">꾸미롱 </span>,\n",
       "  <span class=\"ani\" style=\"line-height:28px;font-weight:700;letter-spacing:-1px;font-size:16px;\">공차 고대 안암점 </span>,\n",
       "  <span class=\"ani\" style=\"line-height:28px;font-weight:700;letter-spacing:-1px;font-size:16px;\">짚신매운갈비찜 고대점 </span>,\n",
       "  <span class=\"ani\" style=\"line-height:28px;font-weight:700;letter-spacing:-1px;font-size:16px;\">요감만족 낙곱새 </span>,\n",
       "  <span class=\"ani\" style=\"line-height:28px;font-weight:700;letter-spacing:-1px;font-size:16px;\">삼통치킨 안암본점 </span>,\n",
       "  <span class=\"ani\" style=\"line-height:28px;font-weight:700;letter-spacing:-1px;font-size:16px;\">싸움의고수 고대점 </span>,\n",
       "  <span class=\"ani\" style=\"line-height:28px;font-weight:700;letter-spacing:-1px;font-size:16px;\">24시공대코인 노래방 </span>,\n",
       "  <span class=\"ani\" style=\"line-height:28px;font-weight:700;letter-spacing:-1px;font-size:16px;\">샤브전문점 라좡 무한리필 </span>,\n",
       "  <span class=\"ani\" style=\"line-height:28px;font-weight:700;letter-spacing:-1px;font-size:16px;\">카페포트 </span>,\n",
       "  <span class=\"ani\" style=\"line-height:28px;font-weight:700;letter-spacing:-1px;font-size:16px;\">이츠스테이크 </span>,\n",
       "  <span class=\"ani\" style=\"line-height:28px;font-weight:700;letter-spacing:-1px;font-size:16px;\">비나 레스토랑 2호점 </span>,\n",
       "  <span class=\"ani\" style=\"line-height:28px;font-weight:700;letter-spacing:-1px;font-size:16px;\">삼성통닭 이공후문 </span>,\n",
       "  <span class=\"ani\" style=\"line-height:28px;font-weight:700;letter-spacing:-1px;font-size:16px;\">돼야지 고대본점 </span>,\n",
       "  <span class=\"ani\" style=\"line-height:28px;font-weight:700;letter-spacing:-1px;font-size:16px;\">호랑이술상 </span>],\n",
       " [<span class=\"ani\" style=\"line-height:28px;font-weight:700;letter-spacing:-1px;font-size:16px;\">마약소주 </span>,\n",
       "  <span class=\"ani\" style=\"line-height:28px;font-weight:700;letter-spacing:-1px;font-size:16px;\">스타벅스 고대점 </span>,\n",
       "  <span class=\"ani\" style=\"line-height:28px;font-weight:700;letter-spacing:-1px;font-size:16px;\">오징어나라 고대점 </span>,\n",
       "  <span class=\"ani\" style=\"line-height:28px;font-weight:700;letter-spacing:-1px;font-size:16px;\">향나무집 고대점 </span>,\n",
       "  <span class=\"ani\" style=\"line-height:28px;font-weight:700;letter-spacing:-1px;font-size:16px;\">안암찌개집 </span>,\n",
       "  <span class=\"ani\" style=\"line-height:28px;font-weight:700;letter-spacing:-1px;font-size:16px;\">춤추는 왕만두 </span>,\n",
       "  <span class=\"ani\" style=\"line-height:28px;font-weight:700;letter-spacing:-1px;font-size:16px;\">놀부부대찌개&amp;철판구이 고대점 </span>,\n",
       "  <span class=\"ani\" style=\"line-height:28px;font-weight:700;letter-spacing:-1px;font-size:16px;\">팔레트 </span>,\n",
       "  <span class=\"ani\" style=\"line-height:28px;font-weight:700;letter-spacing:-1px;font-size:16px;\">배떼기곱창 고대점 </span>,\n",
       "  <span class=\"ani\" style=\"line-height:28px;font-weight:700;letter-spacing:-1px;font-size:16px;\">달래진족 </span>,\n",
       "  <span class=\"ani\" style=\"line-height:28px;font-weight:700;letter-spacing:-1px;font-size:16px;\">봉추찜닭 고대점 </span>,\n",
       "  <span class=\"ani\" style=\"line-height:28px;font-weight:700;letter-spacing:-1px;font-size:16px;\">커피빈 고대참살이길점 </span>,\n",
       "  <span class=\"ani\" style=\"line-height:28px;font-weight:700;letter-spacing:-1px;font-size:16px;\">할리스커피 안암오거리점 </span>,\n",
       "  <span class=\"ani\" style=\"line-height:28px;font-weight:700;letter-spacing:-1px;font-size:16px;\">고대서서갈비 </span>,\n",
       "  <span class=\"ani\" style=\"line-height:28px;font-weight:700;letter-spacing:-1px;font-size:16px;\">세븐PC방 </span>],\n",
       " [<span class=\"ani\" style=\"line-height:28px;font-weight:700;letter-spacing:-1px;font-size:16px;\">경복궁우동냉면 고대점 </span>,\n",
       "  <span class=\"ani\" style=\"line-height:28px;font-weight:700;letter-spacing:-1px;font-size:16px;\">서래갈매기 </span>,\n",
       "  <span class=\"ani\" style=\"line-height:28px;font-weight:700;letter-spacing:-1px;font-size:16px;\">희야 </span>,\n",
       "  <span class=\"ani\" style=\"line-height:28px;font-weight:700;letter-spacing:-1px;font-size:16px;\">오거리술집 </span>,\n",
       "  <span class=\"ani\" style=\"line-height:28px;font-weight:700;letter-spacing:-1px;font-size:16px;\">짱오락실 고려대점 </span>,\n",
       "  <span class=\"ani\" style=\"line-height:28px;font-weight:700;letter-spacing:-1px;font-size:16px;\">라화쿵부(참살이길) </span>,\n",
       "  <span class=\"ani\" style=\"line-height:28px;font-weight:700;letter-spacing:-1px;font-size:16px;\">포몬스 </span>,\n",
       "  <span class=\"ani\" style=\"line-height:28px;font-weight:700;letter-spacing:-1px;font-size:16px;\">이민수정신건강의학과 의원 </span>,\n",
       "  <span class=\"ani\" style=\"line-height:28px;font-weight:700;letter-spacing:-1px;font-size:16px;\">막걸리찬가 2호점 </span>,\n",
       "  <span class=\"ani\" style=\"line-height:28px;font-weight:700;letter-spacing:-1px;font-size:16px;\">캐치 카페 </span>,\n",
       "  <span class=\"ani\" style=\"line-height:28px;font-weight:700;letter-spacing:-1px;font-size:16px;\">이디야커피 고대점 </span>,\n",
       "  <span class=\"ani\" style=\"line-height:28px;font-weight:700;letter-spacing:-1px;font-size:16px;\">엉아네 </span>,\n",
       "  <span class=\"ani\" style=\"line-height:28px;font-weight:700;letter-spacing:-1px;font-size:16px;\">펀비어킹 안암 고대점 </span>,\n",
       "  <span class=\"ani\" style=\"line-height:28px;font-weight:700;letter-spacing:-1px;font-size:16px;\">배드VR게임장 </span>,\n",
       "  <span class=\"ani\" style=\"line-height:28px;font-weight:700;letter-spacing:-1px;font-size:16px;\">뉴욕야시장 안암역점 </span>],\n",
       " [<span class=\"ani\" style=\"line-height:28px;font-weight:700;letter-spacing:-1px;font-size:16px;\">무사 </span>,\n",
       "  <span class=\"ani\" style=\"line-height:28px;font-weight:700;letter-spacing:-1px;font-size:16px;\">상구비어 </span>,\n",
       "  <span class=\"ani\" style=\"line-height:28px;font-weight:700;letter-spacing:-1px;font-size:16px;\">안경박사 고대점 </span>,\n",
       "  <span class=\"ani\" style=\"line-height:28px;font-weight:700;letter-spacing:-1px;font-size:16px;\">리코스타 코인노래방 </span>,\n",
       "  <span class=\"ani\" style=\"line-height:28px;font-weight:700;letter-spacing:-1px;font-size:16px;\">이가네 황소곱창 </span>,\n",
       "  <span class=\"ani\" style=\"line-height:28px;font-weight:700;letter-spacing:-1px;font-size:16px;\">와티카 </span>,\n",
       "  <span class=\"ani\" style=\"line-height:28px;font-weight:700;letter-spacing:-1px;font-size:16px;\">껍데기 클라쓰 </span>,\n",
       "  <span class=\"ani\" style=\"line-height:28px;font-weight:700;letter-spacing:-1px;font-size:16px;\">안암역 3출 포장마차 </span>,\n",
       "  <span class=\"ani\" style=\"line-height:28px;font-weight:700;letter-spacing:-1px;font-size:16px;\">이삭토스트 서울고려대점 </span>,\n",
       "  <span class=\"ani\" style=\"line-height:28px;font-weight:700;letter-spacing:-1px;font-size:16px;\">1973광장시장 (맨발의청춘) </span>,\n",
       "  <span class=\"ani\" style=\"line-height:28px;font-weight:700;letter-spacing:-1px;font-size:16px;\">골목집 </span>,\n",
       "  <span class=\"ani\" style=\"line-height:28px;font-weight:700;letter-spacing:-1px;font-size:16px;\">왕빈대떡 삼파전 </span>,\n",
       "  <span class=\"ani\" style=\"line-height:28px;font-weight:700;letter-spacing:-1px;font-size:16px;\">원이자카야 </span>,\n",
       "  <span class=\"ani\" style=\"line-height:28px;font-weight:700;letter-spacing:-1px;font-size:16px;\">더퍼스트펭귄 </span>,\n",
       "  <span class=\"ani\" style=\"line-height:28px;font-weight:700;letter-spacing:-1px;font-size:16px;\">아맛나슈퍼 안암점 (청춘퓨전포차) </span>],\n",
       " [<span class=\"ani\" style=\"line-height:28px;font-weight:700;letter-spacing:-1px;font-size:16px;\">고담 </span>,\n",
       "  <span class=\"ani\" style=\"line-height:28px;font-weight:700;letter-spacing:-1px;font-size:16px;\">청담주막 </span>,\n",
       "  <span class=\"ani\" style=\"line-height:28px;font-weight:700;letter-spacing:-1px;font-size:16px;\">뚜레쥬르 카페안암역점 </span>,\n",
       "  <span class=\"ani\" style=\"line-height:28px;font-weight:700;letter-spacing:-1px;font-size:16px;\">전주완산골 고대본점 </span>,\n",
       "  <span class=\"ani\" style=\"line-height:28px;font-weight:700;letter-spacing:-1px;font-size:16px;\">본죽 고려대점 </span>,\n",
       "  <span class=\"ani\" style=\"line-height:28px;font-weight:700;letter-spacing:-1px;font-size:16px;\">수철이네 왕새우튀김 </span>,\n",
       "  <span class=\"ani\" style=\"line-height:28px;font-weight:700;letter-spacing:-1px;font-size:16px;\">탐앤탐스 고대점 </span>,\n",
       "  <span class=\"ani\" style=\"line-height:28px;font-weight:700;letter-spacing:-1px;font-size:16px;\">호이차 </span>,\n",
       "  <span class=\"ani\" style=\"line-height:28px;font-weight:700;letter-spacing:-1px;font-size:16px;\">라운즈맨 커피 </span>,\n",
       "  <span class=\"ani\" style=\"line-height:28px;font-weight:700;letter-spacing:-1px;font-size:16px;\">영양찜닭 </span>,\n",
       "  <span class=\"ani\" style=\"line-height:28px;font-weight:700;letter-spacing:-1px;font-size:16px;\">용구비어 고대점 </span>,\n",
       "  <span class=\"ani\" style=\"line-height:28px;font-weight:700;letter-spacing:-1px;font-size:16px;\">김밥천국 안암로터리점 </span>,\n",
       "  <span class=\"ani\" style=\"line-height:28px;font-weight:700;letter-spacing:-1px;font-size:16px;\">춘천닭갈비 </span>,\n",
       "  <span class=\"ani\" style=\"line-height:28px;font-weight:700;letter-spacing:-1px;font-size:16px;\">빈티지 코인노래방 </span>,\n",
       "  <span class=\"ani\" style=\"line-height:28px;font-weight:700;letter-spacing:-1px;font-size:16px;\">조인성퍼스널트레이닝NO.4 </span>],\n",
       " [<span class=\"ani\" style=\"line-height:28px;font-weight:700;letter-spacing:-1px;font-size:16px;\">모나코 바 </span>,\n",
       "  <span class=\"ani\" style=\"line-height:28px;font-weight:700;letter-spacing:-1px;font-size:16px;\">뉴욕핫도그&amp;커피 고대안암점 </span>,\n",
       "  <span class=\"ani\" style=\"line-height:28px;font-weight:700;letter-spacing:-1px;font-size:16px;\">호랑이술상 </span>,\n",
       "  <span class=\"ani\" style=\"line-height:28px;font-weight:700;letter-spacing:-1px;font-size:16px;\">메이바 </span>,\n",
       "  <span class=\"ani\" style=\"line-height:28px;font-weight:700;letter-spacing:-1px;font-size:16px;\">서광윤신경정신과 의원 </span>,\n",
       "  <span class=\"ani\" style=\"line-height:28px;font-weight:700;letter-spacing:-1px;font-size:16px;\">카페 게이트 </span>,\n",
       "  <span class=\"ani\" style=\"line-height:28px;font-weight:700;letter-spacing:-1px;font-size:16px;\">노리터PC방 </span>,\n",
       "  <span class=\"ani\" style=\"line-height:28px;font-weight:700;letter-spacing:-1px;font-size:16px;\">마카레나 노래방 </span>,\n",
       "  <span class=\"ani\" style=\"line-height:28px;font-weight:700;letter-spacing:-1px;font-size:16px;\">한숨 안암점 </span>,\n",
       "  <span class=\"ani\" style=\"line-height:28px;font-weight:700;letter-spacing:-1px;font-size:16px;\">청개구리 노래방 </span>,\n",
       "  <span class=\"ani\" style=\"line-height:28px;font-weight:700;letter-spacing:-1px;font-size:16px;\">장판 </span>,\n",
       "  <span class=\"ani\" style=\"line-height:28px;font-weight:700;letter-spacing:-1px;font-size:16px;\">조이월드 </span>,\n",
       "  <span class=\"ani\" style=\"line-height:28px;font-weight:700;letter-spacing:-1px;font-size:16px;\">라비다 (LaVida) </span>,\n",
       "  <span class=\"ani\" style=\"line-height:28px;font-weight:700;letter-spacing:-1px;font-size:16px;\">한숨 </span>,\n",
       "  <span class=\"ani\" style=\"line-height:28px;font-weight:700;letter-spacing:-1px;font-size:16px;\">세븐일레븐 고대본점 </span>],\n",
       " [<span class=\"ani\" style=\"line-height:28px;font-weight:700;letter-spacing:-1px;font-size:16px;\">폴라리스 안경원 </span>,\n",
       "  <span class=\"ani\" style=\"line-height:28px;font-weight:700;letter-spacing:-1px;font-size:16px;\">마이큐 당구장 </span>,\n",
       "  <span class=\"ani\" style=\"line-height:28px;font-weight:700;letter-spacing:-1px;font-size:16px;\">오 바 (O bar) </span>,\n",
       "  <span class=\"ani\" style=\"line-height:28px;font-weight:700;letter-spacing:-1px;font-size:16px;\">공모아당구장 </span>,\n",
       "  <span class=\"ani\" style=\"line-height:28px;font-weight:700;letter-spacing:-1px;font-size:16px;\">KT디에이치피 안암점 </span>,\n",
       "  <span class=\"ani\" style=\"line-height:28px;font-weight:700;letter-spacing:-1px;font-size:16px;\">로데오 노래방 </span>,\n",
       "  <span class=\"ani\" style=\"line-height:28px;font-weight:700;letter-spacing:-1px;font-size:16px;\">믹스업복싱 </span>,\n",
       "  <span class=\"ani\" style=\"line-height:28px;font-weight:700;letter-spacing:-1px;font-size:16px;\">와우빌리아드클럽 </span>,\n",
       "  <span class=\"ani\" style=\"line-height:28px;font-weight:700;letter-spacing:-1px;font-size:16px;\">CU 고대동문점 </span>,\n",
       "  <span class=\"ani\" style=\"line-height:28px;font-weight:700;letter-spacing:-1px;font-size:16px;\">파티파티 노래방 </span>,\n",
       "  <span class=\"ani\" style=\"line-height:28px;font-weight:700;letter-spacing:-1px;font-size:16px;\">넌 지금 와플이 땡긴다 </span>,\n",
       "  <span class=\"ani\" style=\"line-height:28px;font-weight:700;letter-spacing:-1px;font-size:16px;\">세븐일레븐 고대3호점 </span>]]"
      ]
     },
     "execution_count": 117,
     "metadata": {},
     "output_type": "execute_result"
    }
   ],
   "source": [
    "list_rest"
   ]
  },
  {
   "cell_type": "code",
   "execution_count": 118,
   "metadata": {},
   "outputs": [
    {
     "name": "stderr",
     "output_type": "stream",
     "text": [
      "100%|████████████████████████████████████████████████████████████████████████████████| 15/15 [00:00<00:00, 3006.81it/s]\n"
     ]
    }
   ],
   "source": [
    "list_real_rest = []\n",
    "\n",
    "for i in tqdm(range(len(list_rest))):\n",
    "    for m in range(len(list_rest[i])):\n",
    "        list_real_rest.append(str(list_rest[i][m]))"
   ]
  },
  {
   "cell_type": "code",
   "execution_count": 119,
   "metadata": {},
   "outputs": [
    {
     "name": "stderr",
     "output_type": "stream",
     "text": [
      "100%|████████████████████████████████████████████████████████████████████████████| 222/222 [00:00<00:00, 223079.90it/s]\n"
     ]
    }
   ],
   "source": [
    "# 참살이 \n",
    "\n",
    "list_real_rest\n",
    "\n",
    "# 깔끔하게\n",
    "\n",
    "for i in tqdm(range(len(list_real_rest))):\n",
    "    list_real_rest[i] = list_real_rest[i].replace('<span class=\"ani\" style=\"line-height:28px;font-weight:700;letter-spacing:-1px;font-size:16px;\">',\"\").replace('</span>',\"\")\n",
    "    list_real_rest[i] = list_real_rest[i].strip()"
   ]
  },
  {
   "cell_type": "code",
   "execution_count": 120,
   "metadata": {},
   "outputs": [],
   "source": [
    "# 참살이 dataframe\n",
    "\n",
    "참살이 = []\n",
    "\n",
    "for i in range(len(list_real_rest)):\n",
    "    참살이.append(\"참살이\")\n",
    "    \n",
    "s_참살이 = pd.DataFrame(columns=[])\n"
   ]
  },
  {
   "cell_type": "code",
   "execution_count": 121,
   "metadata": {},
   "outputs": [],
   "source": [
    "s_참살이['이름'] = list_real_rest\n",
    "s_참살이['위치'] = 참살이"
   ]
  },
  {
   "cell_type": "code",
   "execution_count": 122,
   "metadata": {},
   "outputs": [],
   "source": [
    "# s_참살이.to_excel('C:\\\\Users\\\\remig\\Desktop\\\\참살이.xlsx')"
   ]
  },
  {
   "cell_type": "code",
   "execution_count": 123,
   "metadata": {},
   "outputs": [],
   "source": [
    "list_정후 = []\n",
    "urls_정후 = []\n",
    "# url = https://www.koreapas.com/m/sofo_result_more.php?tagkeyword=%EC%A0%95%EB%8C%80%ED%9B%84%EB%AC%B8&page=2\n",
    "\n",
    "for i in range(1,18):\n",
    "    urls_정후.append(\"https://www.koreapas.com/m/sofo_result_more.php?tagkeyword=%EC%A0%95%EB%8C%80%ED%9B%84%EB%AC%B8&page=\" + str(i))\n",
    "    \n",
    "# 가게이름 따오기\n",
    "\n",
    "def 정후(x):\n",
    "    \n",
    "    global list_정후\n",
    "    global urls_정후\n",
    "    \n",
    "    html = urlopen(urls_정후[x])\n",
    "    soup = bs(html,\"html.parser\")\n",
    "    \n",
    "    list_정후.append(soup.find_all(\"span\",{\"class\":\"ani\"}))\n"
   ]
  },
  {
   "cell_type": "code",
   "execution_count": 124,
   "metadata": {},
   "outputs": [
    {
     "name": "stderr",
     "output_type": "stream",
     "text": [
      "100%|██████████████████████████████████████████████████████████████████████████████████| 17/17 [00:05<00:00,  3.22it/s]\n"
     ]
    }
   ],
   "source": [
    "for i in tqdm(range(len(urls_정후))):\n",
    "    정후(i)"
   ]
  },
  {
   "cell_type": "code",
   "execution_count": 125,
   "metadata": {},
   "outputs": [
    {
     "name": "stderr",
     "output_type": "stream",
     "text": [
      "100%|████████████████████████████████████████████████████████████████████████████████| 17/17 [00:00<00:00, 5496.27it/s]\n"
     ]
    }
   ],
   "source": [
    "list_real_정후= [] \n",
    "\n",
    "for i in tqdm(range(len(list_정후))):\n",
    "    for m in range(len(list_정후[i])):\n",
    "        list_real_정후.append(str(list_정후[i][m]))"
   ]
  },
  {
   "cell_type": "code",
   "execution_count": 126,
   "metadata": {
    "scrolled": true
   },
   "outputs": [
    {
     "name": "stderr",
     "output_type": "stream",
     "text": [
      "100%|████████████████████████████████████████████████████████████████████████████| 126/126 [00:00<00:00, 126249.95it/s]\n"
     ]
    }
   ],
   "source": [
    "for i in tqdm(range(len(list_real_정후))):\n",
    "    list_real_정후[i] = list_real_정후[i].replace('<span class=\"ani\" style=\"line-height:28px;font-weight:700;letter-spacing:-1px;font-size:16px;\">',\"\").replace('</span>',\"\")\n",
    "    list_real_정후[i] = list_real_정후[i].strip()"
   ]
  },
  {
   "cell_type": "code",
   "execution_count": 127,
   "metadata": {},
   "outputs": [
    {
     "data": {
      "text/plain": [
       "126"
      ]
     },
     "execution_count": 127,
     "metadata": {},
     "output_type": "execute_result"
    }
   ],
   "source": [
    "len(list_real_정후)"
   ]
  },
  {
   "cell_type": "code",
   "execution_count": 128,
   "metadata": {},
   "outputs": [],
   "source": [
    "# 정후 dataframe\n",
    "\n",
    "정후 = []\n",
    "\n",
    "for i in range(len(list_real_정후)):\n",
    "    정후.append(\"정후\")\n",
    "    \n",
    "s_정후 = pd.DataFrame(columns=[])\n",
    "\n",
    "s_정후['이름'] = list_real_정후\n",
    "s_정후['위치'] = 정후"
   ]
  },
  {
   "cell_type": "code",
   "execution_count": 144,
   "metadata": {},
   "outputs": [],
   "source": [
    "s_정후.to_excel('C:\\\\Users\\\\remig\\Desktop\\\\정후.xlsx')"
   ]
  },
  {
   "cell_type": "code",
   "execution_count": 130,
   "metadata": {},
   "outputs": [],
   "source": [
    "list_이공계후문 = []\n",
    "urls_이공계후문 = []\n",
    "# url = https://www.koreapas.com/m/sofo_result_more.php?tagkeyword=%EC%A0%95%EB%8C%80%ED%9B%84%EB%AC%B8&page=2\n",
    "\n",
    "for i in range(1,18):\n",
    "    urls_이공계후문.append('https://www.koreapas.com/m/sofo_result_more.php?tagkeyword=%EC%9D%B4%EA%B3%B5%EA%B3%84&page=' + str(i))\n",
    "    \n",
    "# 가게이름 따오기\n",
    "\n",
    "def 이공계후문(x):\n",
    "    \n",
    "    global list_이공계후문\n",
    "    global urls_이공계후문\n",
    "    \n",
    "    html = urlopen(urls_이공계후문[x])\n",
    "    soup = bs(html,\"html.parser\")\n",
    "    \n",
    "    list_이공계후문.append(soup.find_all(\"span\",{\"class\":\"ani\"}))\n"
   ]
  },
  {
   "cell_type": "code",
   "execution_count": 131,
   "metadata": {},
   "outputs": [
    {
     "name": "stderr",
     "output_type": "stream",
     "text": [
      "100%|██████████████████████████████████████████████████████████████████████████████████| 17/17 [00:04<00:00,  3.45it/s]\n",
      "100%|████████████████████████████████████████████████████████████████████████████████| 17/17 [00:00<00:00, 5680.62it/s]\n",
      "100%|███████████████████████████████████████████████████████████████████████████████| 75/75 [00:00<00:00, 75328.74it/s]\n"
     ]
    }
   ],
   "source": [
    "list_real_이공계후문= [] \n",
    "\n",
    "for i in tqdm(range(len(urls_정후))):\n",
    "    이공계후문(i)\n",
    "\n",
    "for i in tqdm(range(len(list_이공계후문))):\n",
    "    for m in range(len(list_이공계후문[i])):\n",
    "        list_real_이공계후문.append(str(list_이공계후문[i][m]))\n",
    "        \n",
    "for i in tqdm(range(len(list_real_이공계후문))):\n",
    "    list_real_이공계후문[i] = list_real_이공계후문[i].replace('<span class=\"ani\" style=\"line-height:28px;font-weight:700;letter-spacing:-1px;font-size:16px;\">',\"\").replace('</span>',\"\")\n",
    "    list_real_이공계후문[i] = list_real_이공계후문[i].strip()"
   ]
  },
  {
   "cell_type": "code",
   "execution_count": 132,
   "metadata": {},
   "outputs": [
    {
     "data": {
      "text/plain": [
       "['영철버거',\n",
       " '짱가네 돈냉면',\n",
       " '고대맛집ㅋㅋ',\n",
       " '제주고깃집',\n",
       " '이공김밥',\n",
       " '양지설렁탕',\n",
       " '캘린더 커피스탠드',\n",
       " '키라쿠',\n",
       " '해곤선생',\n",
       " '친구네',\n",
       " '차이니웍',\n",
       " '우승식당',\n",
       " '히든트랙',\n",
       " '부부 바지락 손칼국수',\n",
       " '이공냉면',\n",
       " '신의주 부대찌개',\n",
       " '커피수공업',\n",
       " '병천한방토종순대',\n",
       " '오월키친',\n",
       " '나정순할매쭈꾸미',\n",
       " '오바케 돈부리',\n",
       " '매머드익스프레스 이공계',\n",
       " '우리동네만두가게',\n",
       " '빈올로지',\n",
       " '원진노기순 청국장',\n",
       " '박가네 뼈다귀 해장국',\n",
       " '할매순대국',\n",
       " '황준호베이커리본점',\n",
       " '미스사이공',\n",
       " '로라방앗간',\n",
       " '비야 이공후문',\n",
       " '윤계장과 우동',\n",
       " '카페 파우제 ( Kaffe Pause)',\n",
       " '다돈 참숯화로구이',\n",
       " '미스터피자 고대점',\n",
       " '닭한마리 칼국수',\n",
       " '막걸리찬가',\n",
       " '서병장대김일병 이공대점',\n",
       " '정다래 함박스텍 이공후문',\n",
       " '꾸미롱',\n",
       " '철남 (이공계)',\n",
       " '한사우순두부',\n",
       " '이공탄',\n",
       " '달콤한송이',\n",
       " '폭립하우스',\n",
       " '써니사이드 커피 2호점',\n",
       " '피자스쿨 이공후문',\n",
       " '정한손함흥냉면',\n",
       " '스시진',\n",
       " '고려성',\n",
       " '마이버터드림',\n",
       " '바룩베이커리',\n",
       " '엄마밥줘 고대본점',\n",
       " 'N조이닭&amp;Coffee',\n",
       " '카페 드구띠에',\n",
       " '본도시락',\n",
       " '상구비어',\n",
       " '카페 평행선',\n",
       " '이모네식당',\n",
       " '59쌀피자 안암오거리점',\n",
       " '아는 집밥',\n",
       " '황소식당',\n",
       " 'Mr.WANG 시즌2',\n",
       " \"Joe's Grill\",\n",
       " '누리수제닭강정',\n",
       " '달콤퐁당 (성신여대점)',\n",
       " '김가네',\n",
       " '장터사골 소머리곰탕',\n",
       " '국민수육국밥',\n",
       " '커피스토어',\n",
       " '마시고',\n",
       " '커피날에',\n",
       " '미스터쿡',\n",
       " '커피 프로젝트',\n",
       " '고향집']"
      ]
     },
     "execution_count": 132,
     "metadata": {},
     "output_type": "execute_result"
    }
   ],
   "source": [
    "list_real_이공계후문"
   ]
  },
  {
   "cell_type": "code",
   "execution_count": 133,
   "metadata": {},
   "outputs": [],
   "source": [
    "\n",
    "이공계후문 = []\n",
    "\n",
    "for i in range(len(list_real_이공계후문)):\n",
    "    이공계후문.append(\"이공계후문\")\n",
    "    \n",
    "s_이공계후문 = pd.DataFrame(columns=[])\n",
    "\n",
    "s_이공계후문['이름'] = list_real_이공계후문\n",
    "s_이공계후문['위치'] = 이공계후문\n",
    "\n"
   ]
  },
  {
   "cell_type": "code",
   "execution_count": 145,
   "metadata": {},
   "outputs": [],
   "source": [
    "s_이공계후문.to_excel('C:\\\\Users\\\\remig\\Desktop\\\\이공계후문.xlsx')"
   ]
  },
  {
   "cell_type": "code",
   "execution_count": 135,
   "metadata": {},
   "outputs": [
    {
     "data": {
      "text/html": [
       "<div>\n",
       "<style scoped>\n",
       "    .dataframe tbody tr th:only-of-type {\n",
       "        vertical-align: middle;\n",
       "    }\n",
       "\n",
       "    .dataframe tbody tr th {\n",
       "        vertical-align: top;\n",
       "    }\n",
       "\n",
       "    .dataframe thead th {\n",
       "        text-align: right;\n",
       "    }\n",
       "</style>\n",
       "<table border=\"1\" class=\"dataframe\">\n",
       "  <thead>\n",
       "    <tr style=\"text-align: right;\">\n",
       "      <th></th>\n",
       "      <th>이름</th>\n",
       "      <th>위치</th>\n",
       "    </tr>\n",
       "  </thead>\n",
       "  <tbody>\n",
       "    <tr>\n",
       "      <th>0</th>\n",
       "      <td>영철버거</td>\n",
       "      <td>이공계후문</td>\n",
       "    </tr>\n",
       "    <tr>\n",
       "      <th>1</th>\n",
       "      <td>짱가네 돈냉면</td>\n",
       "      <td>이공계후문</td>\n",
       "    </tr>\n",
       "    <tr>\n",
       "      <th>2</th>\n",
       "      <td>고대맛집ㅋㅋ</td>\n",
       "      <td>이공계후문</td>\n",
       "    </tr>\n",
       "    <tr>\n",
       "      <th>3</th>\n",
       "      <td>제주고깃집</td>\n",
       "      <td>이공계후문</td>\n",
       "    </tr>\n",
       "    <tr>\n",
       "      <th>4</th>\n",
       "      <td>이공김밥</td>\n",
       "      <td>이공계후문</td>\n",
       "    </tr>\n",
       "    <tr>\n",
       "      <th>...</th>\n",
       "      <td>...</td>\n",
       "      <td>...</td>\n",
       "    </tr>\n",
       "    <tr>\n",
       "      <th>70</th>\n",
       "      <td>마시고</td>\n",
       "      <td>이공계후문</td>\n",
       "    </tr>\n",
       "    <tr>\n",
       "      <th>71</th>\n",
       "      <td>커피날에</td>\n",
       "      <td>이공계후문</td>\n",
       "    </tr>\n",
       "    <tr>\n",
       "      <th>72</th>\n",
       "      <td>미스터쿡</td>\n",
       "      <td>이공계후문</td>\n",
       "    </tr>\n",
       "    <tr>\n",
       "      <th>73</th>\n",
       "      <td>커피 프로젝트</td>\n",
       "      <td>이공계후문</td>\n",
       "    </tr>\n",
       "    <tr>\n",
       "      <th>74</th>\n",
       "      <td>고향집</td>\n",
       "      <td>이공계후문</td>\n",
       "    </tr>\n",
       "  </tbody>\n",
       "</table>\n",
       "<p>75 rows × 2 columns</p>\n",
       "</div>"
      ],
      "text/plain": [
       "         이름     위치\n",
       "0      영철버거  이공계후문\n",
       "1   짱가네 돈냉면  이공계후문\n",
       "2    고대맛집ㅋㅋ  이공계후문\n",
       "3     제주고깃집  이공계후문\n",
       "4      이공김밥  이공계후문\n",
       "..      ...    ...\n",
       "70      마시고  이공계후문\n",
       "71     커피날에  이공계후문\n",
       "72     미스터쿡  이공계후문\n",
       "73  커피 프로젝트  이공계후문\n",
       "74      고향집  이공계후문\n",
       "\n",
       "[75 rows x 2 columns]"
      ]
     },
     "execution_count": 135,
     "metadata": {},
     "output_type": "execute_result"
    }
   ],
   "source": [
    "s_이공계후문"
   ]
  },
  {
   "cell_type": "code",
   "execution_count": 136,
   "metadata": {},
   "outputs": [
    {
     "name": "stderr",
     "output_type": "stream",
     "text": [
      "100%|██████████████████████████████████████████████████████████████████████████████████| 29/29 [00:08<00:00,  3.23it/s]\n",
      "100%|████████████████████████████████████████████████████████████████████████████████| 29/29 [00:00<00:00, 9728.45it/s]\n",
      "100%|███████████████████████████████████████████████████████████████████████████████| 70/70 [00:00<00:00, 35069.43it/s]\n"
     ]
    }
   ],
   "source": [
    "list_안암로터리 = []\n",
    "urls_안암로터리 = []\n",
    "# url = https://www.koreapas.com/m/sofo_result_more.php?tagkeyword=%EC%A0%95%EB%8C%80%ED%9B%84%EB%AC%B8&page=2\n",
    "\n",
    "for i in range(1,30):\n",
    "    urls_안암로터리.append('https://www.koreapas.com/m/sofo_result_more.php?tagkeyword=%EC%95%88%EC%95%94%EB%A1%9C%ED%84%B0%EB%A6%AC&page=' + str(i))\n",
    "    \n",
    "# 가게이름 따오기\n",
    "\n",
    "def 안암로터리(x):\n",
    "    \n",
    "    global list_안암로터리\n",
    "    global urls_안암로터리\n",
    "    \n",
    "    html = urlopen(urls_안암로터리[x])\n",
    "    soup = bs(html,\"html.parser\")\n",
    "    \n",
    "    list_안암로터리.append(soup.find_all(\"span\",{\"class\":\"ani\"}))\n",
    "    \n",
    "    \n",
    "list_real_안암로터리= [] \n",
    "\n",
    "for i in tqdm(range(len(urls_안암로터리))):\n",
    "    안암로터리(i)\n",
    "\n",
    "for i in tqdm(range(len(list_안암로터리))):\n",
    "    for m in range(len(list_안암로터리[i])):\n",
    "        list_real_안암로터리.append(str(list_안암로터리[i][m]))\n",
    "        \n",
    "for i in tqdm(range(len(list_real_안암로터리))):\n",
    "    list_real_안암로터리[i] = list_real_안암로터리[i].replace('<span class=\"ani\" style=\"line-height:28px;font-weight:700;letter-spacing:-1px;font-size:16px;\">',\"\").replace('</span>',\"\")\n",
    "    list_real_안암로터리[i] = list_real_안암로터리[i].strip()\n",
    "    \n",
    "\n",
    "안암로터리 = []\n",
    "\n",
    "for i in range(len(list_real_안암로터리)):\n",
    "    안암로터리.append(\"안암로터리\")\n",
    "    \n",
    "s_안암로터리 = pd.DataFrame(columns=[])\n",
    "\n",
    "s_안암로터리['이름'] = list_real_안암로터리\n",
    "s_안암로터리['위치'] = 안암로터리\n"
   ]
  },
  {
   "cell_type": "code",
   "execution_count": 146,
   "metadata": {},
   "outputs": [],
   "source": [
    "s_안암로터리.to_excel('C:\\\\Users\\\\remig\\Desktop\\\\안암로터리.xlsx')"
   ]
  },
  {
   "cell_type": "code",
   "execution_count": 138,
   "metadata": {},
   "outputs": [
    {
     "name": "stderr",
     "output_type": "stream",
     "text": [
      "100%|██████████████████████████████████████████████████████████████████████████████████| 29/29 [00:12<00:00,  2.40it/s]\n",
      "100%|███████████████████████████████████████████████████████████████████████████████| 29/29 [00:00<00:00, 14520.09it/s]\n",
      "100%|███████████████████████████████████████████████████████████████████████████████| 42/42 [00:00<00:00, 42073.27it/s]\n"
     ]
    }
   ],
   "source": [
    "list_고대사거리 = []\n",
    "urls_고대사거리 = []\n",
    "# url = https://www.koreapas.com/m/sofo_result_more.php?tagkeyword=%EC%A0%95%EB%8C%80%ED%9B%84%EB%AC%B8&page=2\n",
    "\n",
    "for i in range(1,30):\n",
    "    urls_고대사거리.append('https://www.koreapas.com/m/sofo_result_more.php?tagkeyword=%EA%B3%A0%EB%8C%80%EC%82%AC%EA%B1%B0%EB%A6%AC&page=' + str(i))\n",
    "    \n",
    "# 가게이름 따오기\n",
    "\n",
    "def 고대사거리(x):\n",
    "    \n",
    "    global list_고대사거리\n",
    "    global urls_고대사거리\n",
    "    \n",
    "    html = urlopen(urls_고대사거리[x])\n",
    "    soup = bs(html,\"html.parser\")\n",
    "    \n",
    "    list_고대사거리.append(soup.find_all(\"span\",{\"class\":\"ani\"}))\n",
    "    \n",
    "    \n",
    "list_real_고대사거리= [] \n",
    "\n",
    "for i in tqdm(range(len(urls_고대사거리))):\n",
    "    고대사거리(i)\n",
    "\n",
    "for i in tqdm(range(len(list_고대사거리))):\n",
    "    for m in range(len(list_고대사거리[i])):\n",
    "        list_real_고대사거리.append(str(list_고대사거리[i][m]))\n",
    "        \n",
    "for i in tqdm(range(len(list_real_고대사거리))):\n",
    "    list_real_고대사거리[i] = list_real_고대사거리[i].replace('<span class=\"ani\" style=\"line-height:28px;font-weight:700;letter-spacing:-1px;font-size:16px;\">',\"\").replace('</span>',\"\")\n",
    "    list_real_고대사거리[i] = list_real_고대사거리[i].strip()\n",
    "    \n",
    "\n",
    "고대사거리 = []\n",
    "\n",
    "for i in range(len(list_real_고대사거리)):\n",
    "    고대사거리.append(\"고대사거리\")\n",
    "    \n",
    "s_고대사거리 = pd.DataFrame(columns=[])\n",
    "\n",
    "s_고대사거리['이름'] = list_real_고대사거리\n",
    "s_고대사거리['위치'] = 고대사거리\n"
   ]
  },
  {
   "cell_type": "code",
   "execution_count": 147,
   "metadata": {},
   "outputs": [],
   "source": [
    "s_고대사거리.to_excel('C:\\\\Users\\\\remig\\Desktop\\\\고대사거리.xlsx')"
   ]
  },
  {
   "cell_type": "code",
   "execution_count": 140,
   "metadata": {},
   "outputs": [
    {
     "name": "stderr",
     "output_type": "stream",
     "text": [
      "100%|██████████████████████████████████████████████████████████████████████████████████| 29/29 [00:08<00:00,  3.34it/s]\n",
      "100%|████████████████████████████████████████████████████████████████████████████████| 29/29 [00:00<00:00, 9688.16it/s]\n",
      "100%|███████████████████████████████████████████████████████████████████████████████| 96/96 [00:00<00:00, 96328.51it/s]\n"
     ]
    }
   ],
   "source": [
    "list_정문앞 = []\n",
    "urls_정문앞 = []\n",
    "# url = https://www.koreapas.com/m/sofo_result_more.php?tagkeyword=%EC%A0%95%EB%8C%80%ED%9B%84%EB%AC%B8&page=2\n",
    "\n",
    "for i in range(1,30):\n",
    "    urls_정문앞.append('https://www.koreapas.com/m/sofo_result_more.php?tagkeyword=%EC%A0%95%EB%AC%B8%EC%95%9E&page=' + str(i))\n",
    "    \n",
    "# 가게이름 따오기\n",
    "\n",
    "def 정문앞(x):\n",
    "    \n",
    "    global list_정문앞\n",
    "    global urls_정문앞\n",
    "    \n",
    "    html = urlopen(urls_정문앞[x])\n",
    "    soup = bs(html,\"html.parser\")\n",
    "    \n",
    "    list_정문앞.append(soup.find_all(\"span\",{\"class\":\"ani\"}))\n",
    "    \n",
    "    \n",
    "list_real_정문앞= [] \n",
    "\n",
    "for i in tqdm(range(len(urls_정문앞))):\n",
    "    정문앞(i)\n",
    "\n",
    "for i in tqdm(range(len(list_정문앞))):\n",
    "    for m in range(len(list_정문앞[i])):\n",
    "        list_real_정문앞.append(str(list_정문앞[i][m]))\n",
    "        \n",
    "for i in tqdm(range(len(list_real_정문앞))):\n",
    "    list_real_정문앞[i] = list_real_정문앞[i].replace('<span class=\"ani\" style=\"line-height:28px;font-weight:700;letter-spacing:-1px;font-size:16px;\">',\"\").replace('</span>',\"\")\n",
    "    list_real_정문앞[i] = list_real_정문앞[i].strip()\n",
    "    \n",
    "\n",
    "정문앞 = []\n",
    "\n",
    "for i in range(len(list_real_정문앞)):\n",
    "    정문앞.append(\"정문앞\")\n",
    "    \n",
    "s_정문앞 = pd.DataFrame(columns=[])\n",
    "\n",
    "s_정문앞['이름'] = list_real_정문앞\n",
    "s_정문앞['위치'] = 정문앞\n"
   ]
  },
  {
   "cell_type": "code",
   "execution_count": 148,
   "metadata": {},
   "outputs": [],
   "source": [
    "s_정문앞.to_excel('C:\\\\Users\\\\remig\\Desktop\\\\정문앞.xlsx')"
   ]
  },
  {
   "cell_type": "code",
   "execution_count": 142,
   "metadata": {},
   "outputs": [
    {
     "name": "stderr",
     "output_type": "stream",
     "text": [
      "100%|██████████████████████████████████████████████████████████████████████████████████| 29/29 [00:07<00:00,  3.73it/s]\n",
      "100%|████████████████████████████████████████████████████████████████████████████████| 29/29 [00:00<00:00, 9712.14it/s]\n",
      "100%|██████████████████████████████████████████████████████████████████████████████████████████| 56/56 [00:00<?, ?it/s]\n"
     ]
    }
   ],
   "source": [
    "# https://www.koreapas.com/m/sofo_result_more.php?tagkeyword=%EB%B2%95%EB%8C%80%ED%9B%84%EB%AC%B8&page=2\n",
    "\n",
    "list_법후 = []\n",
    "urls_법후 = []\n",
    "# url = https://www.koreapas.com/m/sofo_result_more.php?tagkeyword=%EC%A0%95%EB%8C%80%ED%9B%84%EB%AC%B8&page=2\n",
    "\n",
    "for i in range(1,30):\n",
    "    urls_법후.append('https://www.koreapas.com/m/sofo_result_more.php?tagkeyword=%EB%B2%95%EB%8C%80%ED%9B%84%EB%AC%B8&page=' + str(i))\n",
    "    \n",
    "# 가게이름 따오기\n",
    "\n",
    "def 법후(x):\n",
    "    \n",
    "    global list_법후\n",
    "    global urls_법후\n",
    "    \n",
    "    html = urlopen(urls_법후[x])\n",
    "    soup = bs(html,\"html.parser\")\n",
    "    \n",
    "    list_법후.append(soup.find_all(\"span\",{\"class\":\"ani\"}))\n",
    "    \n",
    "    \n",
    "list_real_법후= [] \n",
    "\n",
    "for i in tqdm(range(len(urls_법후))):\n",
    "    법후(i)\n",
    "\n",
    "for i in tqdm(range(len(list_법후))):\n",
    "    for m in range(len(list_법후[i])):\n",
    "        list_real_법후.append(str(list_법후[i][m]))\n",
    "        \n",
    "for i in tqdm(range(len(list_real_법후))):\n",
    "    list_real_법후[i] = list_real_법후[i].replace('<span class=\"ani\" style=\"line-height:28px;font-weight:700;letter-spacing:-1px;font-size:16px;\">',\"\").replace('</span>',\"\")\n",
    "    list_real_법후[i] = list_real_법후[i].strip()\n",
    "    \n",
    "\n",
    "법후 = []\n",
    "\n",
    "for i in range(len(list_real_법후)):\n",
    "    법후.append(\"법후\")\n",
    "    \n",
    "s_법후 = pd.DataFrame(columns=[])\n",
    "\n",
    "s_법후['이름'] = list_real_법후\n",
    "s_법후['위치'] = 법후\n"
   ]
  },
  {
   "cell_type": "code",
   "execution_count": 149,
   "metadata": {},
   "outputs": [],
   "source": [
    "s_법후.to_excel('C:\\\\Users\\\\remig\\Desktop\\\\법후.xlsx')"
   ]
  },
  {
   "cell_type": "code",
   "execution_count": null,
   "metadata": {},
   "outputs": [],
   "source": []
  },
  {
   "cell_type": "code",
   "execution_count": null,
   "metadata": {},
   "outputs": [],
   "source": []
  }
 ],
 "metadata": {
  "kernelspec": {
   "display_name": "Python 3",
   "language": "python",
   "name": "python3"
  },
  "language_info": {
   "codemirror_mode": {
    "name": "ipython",
    "version": 3
   },
   "file_extension": ".py",
   "mimetype": "text/x-python",
   "name": "python",
   "nbconvert_exporter": "python",
   "pygments_lexer": "ipython3",
   "version": "3.7.3"
  }
 },
 "nbformat": 4,
 "nbformat_minor": 2
}
