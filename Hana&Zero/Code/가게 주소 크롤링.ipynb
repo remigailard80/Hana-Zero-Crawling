{
 "cells": [
  {
   "cell_type": "code",
   "execution_count": 2,
   "metadata": {},
   "outputs": [],
   "source": [
    "import pandas as pd\n",
    "import numpy as np\n",
    "import os\n",
    "import time\n",
    "from tqdm import tqdm\n",
    "from selenium import webdriver\n",
    "from bs4 import BeautifulSoup as bs\n",
    "from urllib.request import urlopen\n",
    "from selenium.webdriver.common.keys import Keys"
   ]
  },
  {
   "cell_type": "code",
   "execution_count": 3,
   "metadata": {},
   "outputs": [],
   "source": [
    "df = pd.read_excel('C:\\\\Users\\\\remig\\\\OneDrive\\\\바탕 화면\\\\코딩\\\\합침.xlsx')"
   ]
  },
  {
   "cell_type": "code",
   "execution_count": 4,
   "metadata": {},
   "outputs": [],
   "source": [
    "df = df.drop([df.columns[0]],axis=1)"
   ]
  },
  {
   "cell_type": "code",
   "execution_count": 5,
   "metadata": {},
   "outputs": [],
   "source": [
    "driver = webdriver.Chrome('C:\\\\Users\\\\remig\\\\OneDrive\\\\바탕 화면\\\\코딩\\\\chromedriver.exe')\n",
    "driver.implicitly_wait(3)\n",
    "\n",
    "driver.get(\"https://www.koreapas.com/m/sofo_result.php\")"
   ]
  },
  {
   "cell_type": "code",
   "execution_count": 6,
   "metadata": {},
   "outputs": [],
   "source": [
    "searchbutton = driver.find_element_by_xpath('//*[@id=\"header\"]/div[2]/div/i')\n",
    "searchbutton.click()"
   ]
  },
  {
   "cell_type": "code",
   "execution_count": 7,
   "metadata": {},
   "outputs": [],
   "source": [
    "# 가게이름들\n",
    "\n",
    "rest_list = df.iloc[:,0].ravel()"
   ]
  },
  {
   "cell_type": "code",
   "execution_count": 8,
   "metadata": {},
   "outputs": [
    {
     "data": {
      "text/plain": [
       "'서안메밀집'"
      ]
     },
     "execution_count": 8,
     "metadata": {},
     "output_type": "execute_result"
    }
   ],
   "source": [
    "rest_list[2]"
   ]
  },
  {
   "cell_type": "code",
   "execution_count": 9,
   "metadata": {},
   "outputs": [],
   "source": [
    "searchtext = driver.find_element_by_xpath('//*[@id=\"query\"]')\n",
    "searchtext.send_keys(rest_list[2])\n",
    "searchtext.send_keys(Keys.RETURN)"
   ]
  },
  {
   "cell_type": "code",
   "execution_count": 10,
   "metadata": {},
   "outputs": [],
   "source": [
    "searched = driver.find_element_by_xpath('//*[@id=\"list\"]/table/tbody/tr[2]/td[2]/span[1]')\n",
    "searched.click()"
   ]
  },
  {
   "cell_type": "code",
   "execution_count": 11,
   "metadata": {},
   "outputs": [],
   "source": [
    "address = driver.find_element_by_xpath('/html/body/div[6]/table/tbody/tr[3]/td[2]/span')\n",
    "address.text\n",
    "list_test = []\n",
    "list_test.append(address.text)"
   ]
  },
  {
   "cell_type": "code",
   "execution_count": 12,
   "metadata": {},
   "outputs": [],
   "source": [
    "turnback = driver.find_element_by_xpath('//*[@id=\"topbar\"]/div[2]/i')\n",
    "turnback.click()"
   ]
  },
  {
   "cell_type": "code",
   "execution_count": 13,
   "metadata": {},
   "outputs": [
    {
     "data": {
      "text/plain": [
       "['서울 동대문구 제기로 23 1층']"
      ]
     },
     "execution_count": 13,
     "metadata": {},
     "output_type": "execute_result"
    }
   ],
   "source": [
    "list_test"
   ]
  },
  {
   "cell_type": "code",
   "execution_count": 16,
   "metadata": {},
   "outputs": [],
   "source": [
    "address_list = []\n",
    "\n",
    "def address(x):\n",
    "    global driver\n",
    "    global searchbutton\n",
    "    global rest_list\n",
    "    global searchtext\n",
    "    global address_list\n",
    "    \n",
    "    driver.implicitly_wait(10)\n",
    "    \n",
    "    # 검색창클릭\n",
    "    \n",
    "    searchbutton = driver.find_element_by_xpath('//*[@id=\"header\"]/div[2]/div/i')\n",
    "    searchbutton.click()\n",
    "    \n",
    "    # 가게이름넣기\n",
    "    \n",
    "    searchtext = driver.find_element_by_xpath('//*[@id=\"query\"]')\n",
    "    searchtext.send_keys(rest_list[x])\n",
    "    searchtext.send_keys(Keys.RETURN)\n",
    "    \n",
    "    # 클릭\n",
    "    \n",
    "    searched = driver.find_element_by_xpath('//*[@id=\"list\"]/table/tbody/tr[2]/td[2]/span[1]')\n",
    "    searched.click()\n",
    "    \n",
    "    # 주소따오기\n",
    "    \n",
    "    address = driver.find_element_by_xpath('/html/body/div[6]/table/tbody/tr[3]/td[2]/span')\n",
    "    print(address.text)\n",
    "    \n",
    "    address_list.append(address.text)\n",
    "    # 돌아가기\n",
    "    \n",
    "    turnback = driver.find_element_by_xpath('//*[@id=\"topbar\"]/div[2]/i')\n",
    "    turnback.click()\n",
    "    \n",
    "    # 주소추가\n",
    "    \n",
    "    "
   ]
  },
  {
   "cell_type": "code",
   "execution_count": 64,
   "metadata": {
    "scrolled": true
   },
   "outputs": [
    {
     "name": "stderr",
     "output_type": "stream",
     "text": [
      "\n",
      "\n",
      "\n",
      "\n",
      "\n",
      "  0%|                                                                                          | 0/102 [00:00<?, ?it/s]"
     ]
    },
    {
     "name": "stdout",
     "output_type": "stream",
     "text": [
      "서울 성북구 고려대로24길 25\n"
     ]
    },
    {
     "name": "stderr",
     "output_type": "stream",
     "text": [
      "\n",
      "\n",
      "\n",
      "\n",
      "\n",
      "  1%|▊                                                                                 | 1/102 [00:04<06:49,  4.05s/it]"
     ]
    },
    {
     "name": "stdout",
     "output_type": "stream",
     "text": [
      "서울 성북구 고려대로24길 3-3(2층)\n"
     ]
    },
    {
     "name": "stderr",
     "output_type": "stream",
     "text": [
      "\n",
      "\n",
      "\n",
      "\n",
      "\n",
      "  2%|█▌                                                                                | 2/102 [00:06<05:56,  3.56s/it]"
     ]
    },
    {
     "name": "stdout",
     "output_type": "stream",
     "text": [
      "서울 성북구 고려대로24길 3-44\n"
     ]
    },
    {
     "name": "stderr",
     "output_type": "stream",
     "text": [
      "\n",
      "\n",
      "\n",
      "\n",
      "\n",
      "  3%|██▍                                                                               | 3/102 [00:08<05:19,  3.23s/it]"
     ]
    },
    {
     "name": "stdout",
     "output_type": "stream",
     "text": [
      "서울 성북구 고려대로24길 20 1층\n"
     ]
    },
    {
     "name": "stderr",
     "output_type": "stream",
     "text": [
      "\n",
      "\n",
      "\n",
      "\n",
      "\n",
      "  4%|███▏                                                                              | 4/102 [00:11<04:51,  2.98s/it]"
     ]
    },
    {
     "name": "stdout",
     "output_type": "stream",
     "text": [
      "서울 성북구 고려대로24길 5 2층\n"
     ]
    },
    {
     "name": "stderr",
     "output_type": "stream",
     "text": [
      "\n",
      "\n",
      "\n",
      "\n",
      "\n",
      "  5%|████                                                                              | 5/102 [00:13<04:32,  2.81s/it]"
     ]
    },
    {
     "name": "stdout",
     "output_type": "stream",
     "text": [
      "서울 성북구 고려대로28길 5\n"
     ]
    },
    {
     "name": "stderr",
     "output_type": "stream",
     "text": [
      "\n",
      "\n",
      "\n",
      "\n",
      "\n",
      "  6%|████▊                                                                             | 6/102 [00:16<04:20,  2.71s/it]"
     ]
    },
    {
     "name": "stdout",
     "output_type": "stream",
     "text": [
      "서울 성북구 고려대로24길 39 2층\n"
     ]
    },
    {
     "name": "stderr",
     "output_type": "stream",
     "text": [
      "\n",
      "\n",
      "\n",
      "\n",
      "\n",
      "  7%|█████▋                                                                            | 7/102 [00:20<04:58,  3.14s/it]"
     ]
    },
    {
     "name": "stdout",
     "output_type": "stream",
     "text": [
      "서울 성북구 고려대로24길 31 2층\n"
     ]
    },
    {
     "name": "stderr",
     "output_type": "stream",
     "text": [
      "\n",
      "\n",
      "\n",
      "\n",
      "\n",
      "  8%|██████▍                                                                           | 8/102 [00:23<04:52,  3.11s/it]"
     ]
    },
    {
     "name": "stdout",
     "output_type": "stream",
     "text": [
      "서울 성북구 안암로 77\n"
     ]
    },
    {
     "name": "stderr",
     "output_type": "stream",
     "text": [
      "\n",
      "\n",
      "\n",
      "\n",
      "\n",
      "  9%|███████▏                                                                          | 9/102 [00:25<04:31,  2.92s/it]"
     ]
    },
    {
     "name": "stdout",
     "output_type": "stream",
     "text": [
      "서울 성북구 고려대로24길 35 2층\n"
     ]
    },
    {
     "name": "stderr",
     "output_type": "stream",
     "text": [
      "\n",
      "\n",
      "\n",
      "\n",
      "\n",
      " 10%|███████▉                                                                         | 10/102 [00:29<04:40,  3.05s/it]"
     ]
    },
    {
     "name": "stdout",
     "output_type": "stream",
     "text": [
      "서울 성북구 고려대로26길 55\n"
     ]
    },
    {
     "name": "stderr",
     "output_type": "stream",
     "text": [
      "\n",
      "\n",
      "\n",
      "\n",
      "\n",
      " 11%|████████▋                                                                        | 11/102 [00:32<04:38,  3.07s/it]"
     ]
    },
    {
     "name": "stdout",
     "output_type": "stream",
     "text": [
      "서울 성북구 고려대로26길 51\n"
     ]
    },
    {
     "name": "stderr",
     "output_type": "stream",
     "text": [
      "\n",
      "\n",
      "\n",
      "\n",
      "\n",
      " 12%|█████████▌                                                                       | 12/102 [00:35<04:39,  3.11s/it]"
     ]
    },
    {
     "name": "stdout",
     "output_type": "stream",
     "text": [
      "서울 성북구 고려대로26길 37\n"
     ]
    },
    {
     "name": "stderr",
     "output_type": "stream",
     "text": [
      "\n",
      "\n",
      "\n",
      "\n",
      "\n",
      " 13%|██████████▎                                                                      | 13/102 [00:39<04:47,  3.23s/it]"
     ]
    },
    {
     "name": "stdout",
     "output_type": "stream",
     "text": [
      "서울 성북구 고려대로28길 20\n"
     ]
    },
    {
     "name": "stderr",
     "output_type": "stream",
     "text": [
      "\n",
      "\n",
      "\n",
      "\n",
      "\n",
      " 14%|███████████                                                                      | 14/102 [00:41<04:35,  3.14s/it]"
     ]
    },
    {
     "name": "stdout",
     "output_type": "stream",
     "text": [
      "서울 성북구 고려대로28길 17\n"
     ]
    },
    {
     "name": "stderr",
     "output_type": "stream",
     "text": [
      "\n",
      "\n",
      "\n",
      "\n",
      "\n",
      " 15%|███████████▉                                                                     | 15/102 [00:45<04:39,  3.21s/it]"
     ]
    },
    {
     "name": "stdout",
     "output_type": "stream",
     "text": [
      "서울특별시 성북구 안암로 103\n"
     ]
    },
    {
     "name": "stderr",
     "output_type": "stream",
     "text": [
      "\n",
      "\n",
      "\n",
      "\n",
      "\n",
      " 16%|████████████▋                                                                    | 16/102 [00:49<04:55,  3.43s/it]"
     ]
    },
    {
     "name": "stdout",
     "output_type": "stream",
     "text": [
      "서울 성북구 고려대로24길 45 3층\n"
     ]
    },
    {
     "name": "stderr",
     "output_type": "stream",
     "text": [
      "\n",
      "\n",
      "\n",
      "\n",
      "\n",
      " 17%|█████████████▌                                                                   | 17/102 [00:52<04:34,  3.23s/it]"
     ]
    },
    {
     "name": "stdout",
     "output_type": "stream",
     "text": [
      "서울 성북구 안암로 81\n"
     ]
    },
    {
     "name": "stderr",
     "output_type": "stream",
     "text": [
      "\n",
      "\n",
      "\n",
      "\n",
      "\n",
      " 18%|██████████████▎                                                                  | 18/102 [00:54<04:17,  3.07s/it]"
     ]
    },
    {
     "name": "stdout",
     "output_type": "stream",
     "text": [
      "서울 성북구 고려대로24길 16\n"
     ]
    },
    {
     "name": "stderr",
     "output_type": "stream",
     "text": [
      "\n",
      "\n",
      "\n",
      "\n",
      "\n",
      " 19%|███████████████                                                                  | 19/102 [00:57<04:14,  3.06s/it]"
     ]
    },
    {
     "name": "stdout",
     "output_type": "stream",
     "text": [
      "서울 성북구 고려대로28길 2\n"
     ]
    },
    {
     "name": "stderr",
     "output_type": "stream",
     "text": [
      "\n",
      "\n",
      "\n",
      "\n",
      "\n",
      " 20%|███████████████▉                                                                 | 20/102 [01:00<04:08,  3.03s/it]"
     ]
    },
    {
     "name": "stdout",
     "output_type": "stream",
     "text": [
      "서울 성북구 고려대로 96\n"
     ]
    },
    {
     "name": "stderr",
     "output_type": "stream",
     "text": [
      "\n",
      "\n",
      "\n",
      "\n",
      "\n",
      " 21%|████████████████▋                                                                | 21/102 [01:04<04:16,  3.16s/it]"
     ]
    },
    {
     "name": "stdout",
     "output_type": "stream",
     "text": [
      "서울 성북구 안암로 89-5\n"
     ]
    },
    {
     "name": "stderr",
     "output_type": "stream",
     "text": [
      "\n",
      "\n",
      "\n",
      "\n",
      "\n",
      " 22%|█████████████████▍                                                               | 22/102 [01:07<04:06,  3.08s/it]"
     ]
    },
    {
     "name": "stdout",
     "output_type": "stream",
     "text": [
      "서울 성북구 고려대로24길 56 지하1층\n"
     ]
    },
    {
     "name": "stderr",
     "output_type": "stream",
     "text": [
      "\n",
      "\n",
      "\n",
      "\n",
      "\n",
      " 23%|██████████████████▎                                                              | 23/102 [01:11<04:24,  3.35s/it]"
     ]
    },
    {
     "name": "stdout",
     "output_type": "stream",
     "text": [
      "서울 성북구 고려대로 102\n"
     ]
    },
    {
     "name": "stderr",
     "output_type": "stream",
     "text": [
      "\n",
      "\n",
      "\n",
      "\n",
      "\n",
      " 24%|███████████████████                                                              | 24/102 [01:14<04:17,  3.30s/it]"
     ]
    },
    {
     "name": "stdout",
     "output_type": "stream",
     "text": [
      "서울 성북구 안암로 91\n"
     ]
    },
    {
     "name": "stderr",
     "output_type": "stream",
     "text": [
      "\n",
      "\n",
      "\n",
      "\n",
      "\n",
      " 25%|███████████████████▊                                                             | 25/102 [01:17<04:06,  3.21s/it]"
     ]
    },
    {
     "name": "stdout",
     "output_type": "stream",
     "text": [
      "서울 성북구 고려대로24길 55\n"
     ]
    },
    {
     "name": "stderr",
     "output_type": "stream",
     "text": [
      "\n",
      "\n",
      "\n",
      "\n",
      "\n",
      " 25%|████████████████████▋                                                            | 26/102 [01:20<03:59,  3.15s/it]"
     ]
    },
    {
     "name": "stdout",
     "output_type": "stream",
     "text": [
      "서울 성북구 고려대로24길 47 2층\n"
     ]
    },
    {
     "name": "stderr",
     "output_type": "stream",
     "text": [
      "\n",
      "\n",
      "\n",
      "\n",
      "\n",
      " 26%|█████████████████████▍                                                           | 27/102 [01:23<03:48,  3.05s/it]"
     ]
    },
    {
     "name": "stdout",
     "output_type": "stream",
     "text": [
      "서울특별시 성북구 고려대로24길 27\n"
     ]
    },
    {
     "name": "stderr",
     "output_type": "stream",
     "text": [
      "\n",
      "\n",
      "\n",
      "\n",
      "\n",
      " 27%|██████████████████████▏                                                          | 28/102 [01:25<03:40,  2.98s/it]"
     ]
    },
    {
     "name": "stdout",
     "output_type": "stream",
     "text": [
      "서울 성북구 고려대로24길 32\n"
     ]
    },
    {
     "name": "stderr",
     "output_type": "stream",
     "text": [
      "\n",
      "\n",
      "\n",
      "\n",
      "\n",
      " 28%|███████████████████████                                                          | 29/102 [01:29<03:41,  3.03s/it]"
     ]
    },
    {
     "name": "stdout",
     "output_type": "stream",
     "text": [
      "서울 성북구 고려대로24가길 13-2\n"
     ]
    },
    {
     "name": "stderr",
     "output_type": "stream",
     "text": [
      "\n",
      "\n",
      "\n",
      "\n",
      "\n",
      " 29%|███████████████████████▊                                                         | 30/102 [01:32<03:37,  3.02s/it]"
     ]
    },
    {
     "name": "stdout",
     "output_type": "stream",
     "text": [
      "서울 성북구 고려대로24길 42\n"
     ]
    },
    {
     "name": "stderr",
     "output_type": "stream",
     "text": [
      "\n",
      "\n",
      "\n",
      "\n",
      "\n",
      " 30%|████████████████████████▌                                                        | 31/102 [01:35<03:34,  3.02s/it]"
     ]
    },
    {
     "name": "stdout",
     "output_type": "stream",
     "text": [
      "서울 성북구 고려대로 88\n"
     ]
    },
    {
     "name": "stderr",
     "output_type": "stream",
     "text": [
      "\n",
      "\n",
      "\n",
      "\n",
      "\n",
      " 31%|█████████████████████████▍                                                       | 32/102 [01:37<03:26,  2.96s/it]"
     ]
    },
    {
     "name": "stdout",
     "output_type": "stream",
     "text": [
      "서울 성북구 고려대로24길 24\n"
     ]
    },
    {
     "name": "stderr",
     "output_type": "stream",
     "text": [
      "\n",
      "\n",
      "\n",
      "\n",
      "\n",
      " 32%|██████████████████████████▏                                                      | 33/102 [01:40<03:26,  2.99s/it]"
     ]
    },
    {
     "name": "stdout",
     "output_type": "stream",
     "text": [
      "서울 성북구 고려대로26길 5\n"
     ]
    },
    {
     "name": "stderr",
     "output_type": "stream",
     "text": [
      "\n",
      "\n",
      "\n",
      "\n",
      "\n",
      " 33%|███████████████████████████                                                      | 34/102 [01:44<03:31,  3.10s/it]"
     ]
    },
    {
     "name": "stdout",
     "output_type": "stream",
     "text": [
      "서울 성북구 고려대로24가길 6 2층\n"
     ]
    },
    {
     "name": "stderr",
     "output_type": "stream",
     "text": [
      "\n",
      "\n",
      "\n",
      "\n",
      "\n",
      " 34%|███████████████████████████▊                                                     | 35/102 [01:47<03:29,  3.13s/it]"
     ]
    },
    {
     "name": "stdout",
     "output_type": "stream",
     "text": [
      "서울 성북구 안암로 77\n"
     ]
    },
    {
     "name": "stderr",
     "output_type": "stream",
     "text": [
      "\n",
      "\n",
      "\n",
      "\n",
      "\n",
      " 35%|████████████████████████████▌                                                    | 36/102 [01:50<03:19,  3.02s/it]"
     ]
    },
    {
     "name": "stdout",
     "output_type": "stream",
     "text": [
      "서울 성북구 안암로 77\n"
     ]
    },
    {
     "name": "stderr",
     "output_type": "stream",
     "text": [
      "\n",
      "\n",
      "\n",
      "\n",
      "\n",
      " 36%|█████████████████████████████▍                                                   | 37/102 [01:53<03:10,  2.94s/it]"
     ]
    },
    {
     "name": "stdout",
     "output_type": "stream",
     "text": [
      "서울 성북구 고려대로24길 44\n"
     ]
    },
    {
     "name": "stderr",
     "output_type": "stream",
     "text": [
      "\n",
      "\n",
      "\n",
      "\n",
      "\n",
      " 37%|██████████████████████████████▏                                                  | 38/102 [01:56<03:22,  3.16s/it]"
     ]
    },
    {
     "name": "stdout",
     "output_type": "stream",
     "text": [
      "서울 성북구 고려대로24길 55 2층\n"
     ]
    },
    {
     "name": "stderr",
     "output_type": "stream",
     "text": [
      "\n",
      "\n",
      "\n",
      "\n",
      "\n",
      " 38%|██████████████████████████████▉                                                  | 39/102 [02:00<03:21,  3.20s/it]"
     ]
    },
    {
     "name": "stdout",
     "output_type": "stream",
     "text": [
      "서울특별시 성북구 고려대로24길 3-42\n"
     ]
    },
    {
     "name": "stderr",
     "output_type": "stream",
     "text": [
      "\n",
      "\n",
      "\n",
      "\n",
      "\n",
      " 39%|███████████████████████████████▊                                                 | 40/102 [02:03<03:25,  3.31s/it]"
     ]
    },
    {
     "name": "stdout",
     "output_type": "stream",
     "text": [
      "서울특별시 성북구 고려대로24가길 11\n"
     ]
    },
    {
     "name": "stderr",
     "output_type": "stream",
     "text": [
      "\n",
      "\n",
      "\n",
      "\n",
      "\n",
      " 40%|████████████████████████████████▌                                                | 41/102 [02:06<03:22,  3.31s/it]"
     ]
    },
    {
     "name": "stdout",
     "output_type": "stream",
     "text": [
      "서울 성북구 고려대로24길 48 1층\n"
     ]
    },
    {
     "name": "stderr",
     "output_type": "stream",
     "text": [
      "\n",
      "\n",
      "\n",
      "\n",
      "\n",
      " 41%|█████████████████████████████████▎                                               | 42/102 [02:09<03:13,  3.23s/it]"
     ]
    },
    {
     "name": "stdout",
     "output_type": "stream",
     "text": [
      "서울 성북구 고려대로24길 58-5 2층\n"
     ]
    },
    {
     "name": "stderr",
     "output_type": "stream",
     "text": [
      "\n",
      "\n",
      "\n",
      "\n",
      "\n",
      " 42%|██████████████████████████████████▏                                              | 43/102 [02:12<03:03,  3.11s/it]"
     ]
    },
    {
     "name": "stdout",
     "output_type": "stream",
     "text": [
      "서울 성북구 고려대로24길 61 지하1층\n"
     ]
    },
    {
     "name": "stderr",
     "output_type": "stream",
     "text": [
      "\n",
      "\n",
      "\n",
      "\n",
      "\n",
      " 43%|██████████████████████████████████▉                                              | 44/102 [02:15<03:02,  3.15s/it]"
     ]
    },
    {
     "name": "stdout",
     "output_type": "stream",
     "text": [
      "서울 성북구 고려대로26길 55\n"
     ]
    },
    {
     "name": "stderr",
     "output_type": "stream",
     "text": [
      "\n",
      "\n",
      "\n",
      "\n",
      "\n",
      " 44%|███████████████████████████████████▋                                             | 45/102 [02:19<02:58,  3.13s/it]"
     ]
    },
    {
     "name": "stdout",
     "output_type": "stream",
     "text": [
      "서울 동대문구 안암로22길 6\n"
     ]
    },
    {
     "name": "stderr",
     "output_type": "stream",
     "text": [
      "\n",
      "\n",
      "\n",
      "\n",
      "\n",
      " 45%|████████████████████████████████████▌                                            | 46/102 [02:22<02:59,  3.20s/it]"
     ]
    },
    {
     "name": "stdout",
     "output_type": "stream",
     "text": [
      "서울특별시 성북구 고려대로24길 44 (2층)\n"
     ]
    },
    {
     "name": "stderr",
     "output_type": "stream",
     "text": [
      "\n",
      "\n",
      "\n",
      "\n",
      "\n",
      " 46%|█████████████████████████████████████▎                                           | 47/102 [02:25<02:50,  3.11s/it]"
     ]
    },
    {
     "name": "stdout",
     "output_type": "stream",
     "text": [
      "서울 성북구 고려대로26길 42-1\n"
     ]
    },
    {
     "name": "stderr",
     "output_type": "stream",
     "text": [
      "\n",
      "\n",
      "\n",
      "\n",
      "\n",
      " 47%|██████████████████████████████████████                                           | 48/102 [02:28<02:45,  3.06s/it]"
     ]
    },
    {
     "name": "stdout",
     "output_type": "stream",
     "text": [
      "서울 성북구 고려대로 88\n"
     ]
    },
    {
     "name": "stderr",
     "output_type": "stream",
     "text": [
      "\n",
      "\n",
      "\n",
      "\n",
      "\n",
      " 48%|██████████████████████████████████████▉                                          | 49/102 [02:31<02:36,  2.96s/it]"
     ]
    },
    {
     "name": "stdout",
     "output_type": "stream",
     "text": [
      "서울 성북구 고려대로24길 6 2층\n"
     ]
    },
    {
     "name": "stderr",
     "output_type": "stream",
     "text": [
      "\n",
      "\n",
      "\n",
      "\n",
      "\n",
      " 49%|███████████████████████████████████████▋                                         | 50/102 [02:34<02:37,  3.02s/it]"
     ]
    },
    {
     "name": "stdout",
     "output_type": "stream",
     "text": [
      "서울 성북구 고려대로24길 61\n"
     ]
    },
    {
     "name": "stderr",
     "output_type": "stream",
     "text": [
      "\n",
      "\n",
      "\n",
      "\n",
      "\n",
      " 50%|████████████████████████████████████████▌                                        | 51/102 [02:37<02:33,  3.01s/it]"
     ]
    },
    {
     "name": "stdout",
     "output_type": "stream",
     "text": [
      "서울 성북구 고려대로24길 51\n"
     ]
    },
    {
     "name": "stderr",
     "output_type": "stream",
     "text": [
      "\n",
      "\n",
      "\n",
      "\n",
      "\n",
      " 51%|█████████████████████████████████████████▎                                       | 52/102 [02:40<02:34,  3.09s/it]"
     ]
    },
    {
     "name": "stdout",
     "output_type": "stream",
     "text": [
      "서울 성북구 고려대로22길 19\n"
     ]
    },
    {
     "name": "stderr",
     "output_type": "stream",
     "text": [
      "\n",
      "\n",
      "\n",
      "\n",
      "\n",
      " 52%|██████████████████████████████████████████                                       | 53/102 [02:43<02:35,  3.17s/it]"
     ]
    },
    {
     "name": "stdout",
     "output_type": "stream",
     "text": [
      "서울특별시 성북구 고려대로24길 44\n"
     ]
    },
    {
     "name": "stderr",
     "output_type": "stream",
     "text": [
      "\n",
      "\n",
      "\n",
      "\n",
      "\n",
      " 53%|██████████████████████████████████████████▉                                      | 54/102 [02:46<02:32,  3.17s/it]"
     ]
    },
    {
     "name": "stdout",
     "output_type": "stream",
     "text": [
      "서울 성북구 고려대로24길 52\n"
     ]
    },
    {
     "name": "stderr",
     "output_type": "stream",
     "text": [
      "\n",
      "\n",
      "\n",
      "\n",
      "\n",
      " 54%|███████████████████████████████████████████▋                                     | 55/102 [02:50<02:33,  3.27s/it]"
     ]
    },
    {
     "name": "stdout",
     "output_type": "stream",
     "text": [
      "서울 성북구 안암로 81-4 3층\n"
     ]
    },
    {
     "name": "stderr",
     "output_type": "stream",
     "text": [
      "\n",
      "\n",
      "\n",
      "\n",
      "\n",
      " 55%|████████████████████████████████████████████▍                                    | 56/102 [02:53<02:27,  3.21s/it]"
     ]
    },
    {
     "name": "stdout",
     "output_type": "stream",
     "text": [
      "서울특별시 성북구 고려대로26길 9\n"
     ]
    },
    {
     "name": "stderr",
     "output_type": "stream",
     "text": [
      "\n",
      "\n",
      "\n",
      "\n",
      "\n",
      " 56%|█████████████████████████████████████████████▎                                   | 57/102 [02:56<02:21,  3.15s/it]"
     ]
    },
    {
     "name": "stdout",
     "output_type": "stream",
     "text": [
      "서울 성북구 고려대로24길 8\n"
     ]
    },
    {
     "name": "stderr",
     "output_type": "stream",
     "text": [
      "\n",
      "\n",
      "\n",
      "\n",
      "\n",
      " 57%|██████████████████████████████████████████████                                   | 58/102 [03:02<02:51,  3.89s/it]"
     ]
    },
    {
     "name": "stdout",
     "output_type": "stream",
     "text": [
      "서울 성북구 고려대로24길 63\n"
     ]
    },
    {
     "name": "stderr",
     "output_type": "stream",
     "text": [
      "\n",
      "\n",
      "\n",
      "\n",
      "\n",
      " 58%|██████████████████████████████████████████████▊                                  | 59/102 [03:05<02:42,  3.77s/it]"
     ]
    },
    {
     "name": "stdout",
     "output_type": "stream",
     "text": [
      "서울 성북구 고려대로24길 56\n"
     ]
    },
    {
     "name": "stderr",
     "output_type": "stream",
     "text": [
      "\n",
      "\n",
      "\n",
      "\n",
      "\n",
      " 59%|███████████████████████████████████████████████▋                                 | 60/102 [03:08<02:28,  3.53s/it]"
     ]
    },
    {
     "name": "stdout",
     "output_type": "stream",
     "text": [
      "서울 성북구 고려대로24길 3-28\n"
     ]
    },
    {
     "name": "stderr",
     "output_type": "stream",
     "text": [
      "\n",
      "\n",
      "\n",
      "\n",
      "\n",
      " 60%|████████████████████████████████████████████████▍                                | 61/102 [03:11<02:16,  3.34s/it]"
     ]
    },
    {
     "name": "stdout",
     "output_type": "stream",
     "text": [
      "서울 성북구 고려대로24길 47\n"
     ]
    },
    {
     "name": "stderr",
     "output_type": "stream",
     "text": [
      "\n",
      "\n",
      "\n",
      "\n",
      "\n",
      " 61%|█████████████████████████████████████████████████▏                               | 62/102 [03:15<02:16,  3.42s/it]"
     ]
    },
    {
     "name": "stdout",
     "output_type": "stream",
     "text": [
      "서울 성북구 고려대로 92\n"
     ]
    },
    {
     "name": "stderr",
     "output_type": "stream",
     "text": [
      "\n",
      "\n",
      "\n",
      "\n",
      "\n",
      " 62%|██████████████████████████████████████████████████                               | 63/102 [03:17<02:04,  3.19s/it]"
     ]
    },
    {
     "name": "stdout",
     "output_type": "stream",
     "text": [
      "서울 성북구 고려대로24가길 1\n"
     ]
    },
    {
     "name": "stderr",
     "output_type": "stream",
     "text": [
      "\n",
      "\n",
      "\n",
      "\n",
      "\n",
      " 63%|██████████████████████████████████████████████████▊                              | 64/102 [03:20<02:00,  3.17s/it]"
     ]
    },
    {
     "name": "stdout",
     "output_type": "stream",
     "text": [
      "서울 성북구 고려대로24길15 2,3층\n"
     ]
    },
    {
     "name": "stderr",
     "output_type": "stream",
     "text": [
      "\n",
      "\n",
      "\n",
      "\n",
      "\n",
      " 64%|███████████████████████████████████████████████████▌                             | 65/102 [03:23<01:54,  3.09s/it]"
     ]
    },
    {
     "name": "stdout",
     "output_type": "stream",
     "text": [
      "서울 성북구 고려대로24길 3-42 (2층)\n"
     ]
    },
    {
     "name": "stderr",
     "output_type": "stream",
     "text": [
      "\n",
      "\n",
      "\n",
      "\n",
      "\n",
      " 65%|████████████████████████████████████████████████████▍                            | 66/102 [03:26<01:49,  3.05s/it]"
     ]
    },
    {
     "name": "stdout",
     "output_type": "stream",
     "text": [
      "서울 성북구 고려대로24길 12\n"
     ]
    },
    {
     "name": "stderr",
     "output_type": "stream",
     "text": [
      "\n",
      "\n",
      "\n",
      "\n",
      "\n",
      " 66%|█████████████████████████████████████████████████████▏                           | 67/102 [03:29<01:48,  3.09s/it]"
     ]
    },
    {
     "name": "stdout",
     "output_type": "stream",
     "text": [
      "서울 성북구 고려대로22길 5\n"
     ]
    },
    {
     "name": "stderr",
     "output_type": "stream",
     "text": [
      "\n",
      "\n",
      "\n",
      "\n",
      "\n",
      " 67%|██████████████████████████████████████████████████████                           | 68/102 [03:33<01:47,  3.17s/it]"
     ]
    },
    {
     "name": "stdout",
     "output_type": "stream",
     "text": [
      "서울 성북구 안암로 89-3\n"
     ]
    },
    {
     "name": "stderr",
     "output_type": "stream",
     "text": [
      "\n",
      "\n",
      "\n",
      "\n",
      "\n",
      " 68%|██████████████████████████████████████████████████████▊                          | 69/102 [03:36<01:46,  3.23s/it]"
     ]
    },
    {
     "name": "stdout",
     "output_type": "stream",
     "text": [
      "서울 성북구 안암로77\n"
     ]
    },
    {
     "name": "stderr",
     "output_type": "stream",
     "text": [
      "\n",
      "\n",
      "\n",
      "\n",
      "\n",
      " 69%|███████████████████████████████████████████████████████▌                         | 70/102 [03:40<01:44,  3.27s/it]"
     ]
    },
    {
     "name": "stdout",
     "output_type": "stream",
     "text": [
      "서울 성북구 고려대로24길 36\n"
     ]
    },
    {
     "name": "stderr",
     "output_type": "stream",
     "text": [
      "\n",
      "\n",
      "\n",
      "\n",
      "\n",
      " 70%|████████████████████████████████████████████████████████▍                        | 71/102 [03:43<01:47,  3.47s/it]"
     ]
    },
    {
     "name": "stdout",
     "output_type": "stream",
     "text": [
      "서울 성북구 고려대로26길 42-4\n"
     ]
    },
    {
     "name": "stderr",
     "output_type": "stream",
     "text": [
      "\n",
      "\n",
      "\n",
      "\n",
      "\n",
      " 71%|█████████████████████████████████████████████████████████▏                       | 72/102 [03:47<01:43,  3.46s/it]"
     ]
    },
    {
     "name": "stdout",
     "output_type": "stream",
     "text": [
      "서울 성북구 고려대로26길 42-3 2층\n"
     ]
    },
    {
     "name": "stderr",
     "output_type": "stream",
     "text": [
      "\n",
      "\n",
      "\n",
      "\n",
      "\n",
      " 72%|█████████████████████████████████████████████████████████▉                       | 73/102 [03:50<01:38,  3.39s/it]"
     ]
    },
    {
     "name": "stdout",
     "output_type": "stream",
     "text": [
      "서울 성북구 고려대로24길 61\n"
     ]
    },
    {
     "name": "stderr",
     "output_type": "stream",
     "text": [
      "\n",
      "\n",
      "\n",
      "\n",
      "\n",
      " 73%|██████████████████████████████████████████████████████████▊                      | 74/102 [03:53<01:32,  3.31s/it]"
     ]
    },
    {
     "name": "stdout",
     "output_type": "stream",
     "text": [
      "서울 성북구 고려대로24길 3-3\n"
     ]
    },
    {
     "name": "stderr",
     "output_type": "stream",
     "text": [
      "\n",
      "\n",
      "\n",
      "\n",
      "\n",
      " 74%|███████████████████████████████████████████████████████████▌                     | 75/102 [03:57<01:31,  3.41s/it]"
     ]
    },
    {
     "name": "stdout",
     "output_type": "stream",
     "text": [
      "서울 성북구 안암로 81-4 1층\n"
     ]
    },
    {
     "name": "stderr",
     "output_type": "stream",
     "text": [
      "\n",
      "\n",
      "\n",
      "\n",
      "\n",
      " 75%|████████████████████████████████████████████████████████████▎                    | 76/102 [04:00<01:23,  3.22s/it]"
     ]
    },
    {
     "name": "stdout",
     "output_type": "stream",
     "text": [
      "서울 성북구 고려대로 100\n"
     ]
    },
    {
     "name": "stderr",
     "output_type": "stream",
     "text": [
      "\n",
      "\n",
      "\n",
      "\n",
      "\n",
      " 75%|█████████████████████████████████████████████████████████████▏                   | 77/102 [04:03<01:19,  3.19s/it]"
     ]
    },
    {
     "name": "stdout",
     "output_type": "stream",
     "text": [
      "서울 성북구 고려대로24길 14\n"
     ]
    },
    {
     "name": "stderr",
     "output_type": "stream",
     "text": [
      "\n",
      "\n",
      "\n",
      "\n",
      "\n",
      " 76%|█████████████████████████████████████████████████████████████▉                   | 78/102 [04:06<01:15,  3.13s/it]"
     ]
    },
    {
     "name": "stdout",
     "output_type": "stream",
     "text": [
      "서울특별시 성북구 고려대로26길 32 1F\n"
     ]
    },
    {
     "name": "stderr",
     "output_type": "stream",
     "text": [
      "\n",
      "\n",
      "\n",
      "\n",
      "\n",
      " 77%|██████████████████████████████████████████████████████████████▋                  | 79/102 [04:09<01:13,  3.20s/it]"
     ]
    },
    {
     "name": "stdout",
     "output_type": "stream",
     "text": [
      "서울 성북구 고려대로24길 36\n"
     ]
    },
    {
     "name": "stderr",
     "output_type": "stream",
     "text": [
      "\n",
      "\n",
      "\n",
      "\n",
      "\n",
      " 78%|███████████████████████████████████████████████████████████████▌                 | 80/102 [04:12<01:08,  3.10s/it]"
     ]
    },
    {
     "name": "stdout",
     "output_type": "stream",
     "text": [
      "서울 성북구 고려대로24길 9\n"
     ]
    },
    {
     "name": "stderr",
     "output_type": "stream",
     "text": [
      "\n",
      "\n",
      "\n",
      "\n",
      "\n",
      " 79%|████████████████████████████████████████████████████████████████▎                | 81/102 [04:15<01:04,  3.08s/it]"
     ]
    },
    {
     "name": "stdout",
     "output_type": "stream",
     "text": [
      "서울 성북구 고려대로24가길 7\n"
     ]
    },
    {
     "name": "stderr",
     "output_type": "stream",
     "text": [
      "\n",
      "\n",
      "\n",
      "\n",
      "\n",
      " 80%|█████████████████████████████████████████████████████████████████                | 82/102 [04:40<03:09,  9.50s/it]"
     ]
    },
    {
     "name": "stdout",
     "output_type": "stream",
     "text": [
      "서울특별시 성북구 고려대로24길 28\n"
     ]
    },
    {
     "name": "stderr",
     "output_type": "stream",
     "text": [
      "\n",
      "\n",
      "\n",
      "\n",
      "\n",
      " 81%|█████████████████████████████████████████████████████████████████▉               | 83/102 [04:43<02:24,  7.59s/it]"
     ]
    },
    {
     "name": "stdout",
     "output_type": "stream",
     "text": [
      "서울 성북구 고려대로26길 42-2\n"
     ]
    },
    {
     "name": "stderr",
     "output_type": "stream",
     "text": [
      "\n",
      "\n",
      "\n",
      "\n",
      "\n",
      " 82%|██████████████████████████████████████████████████████████████████▋              | 84/102 [04:45<01:49,  6.08s/it]"
     ]
    },
    {
     "name": "stdout",
     "output_type": "stream",
     "text": [
      "서울 성북구 고려대로26길 39\n"
     ]
    },
    {
     "name": "stderr",
     "output_type": "stream",
     "text": [
      "\n",
      "\n",
      "\n",
      "\n",
      "\n",
      " 83%|███████████████████████████████████████████████████████████████████▌             | 85/102 [04:48<01:25,  5.05s/it]"
     ]
    },
    {
     "name": "stdout",
     "output_type": "stream",
     "text": [
      "서울시 성북구 고려대로 24길 16 (3층)\n"
     ]
    },
    {
     "name": "stderr",
     "output_type": "stream",
     "text": [
      "\n",
      "\n",
      "\n",
      "\n",
      "\n",
      " 84%|████████████████████████████████████████████████████████████████████▎            | 86/102 [04:50<01:08,  4.26s/it]"
     ]
    },
    {
     "name": "stdout",
     "output_type": "stream",
     "text": [
      "서울 성북구 고려대로26길 38\n"
     ]
    },
    {
     "name": "stderr",
     "output_type": "stream",
     "text": [
      "\n",
      "\n",
      "\n",
      "\n",
      "\n",
      " 85%|█████████████████████████████████████████████████████████████████████            | 87/102 [04:54<00:59,  3.97s/it]"
     ]
    },
    {
     "name": "stdout",
     "output_type": "stream",
     "text": [
      "서울 성북구 고려대로24길 39\n"
     ]
    },
    {
     "name": "stderr",
     "output_type": "stream",
     "text": [
      "\n",
      "\n",
      "\n",
      "\n",
      "\n",
      " 86%|█████████████████████████████████████████████████████████████████████▉           | 88/102 [04:56<00:48,  3.50s/it]"
     ]
    },
    {
     "name": "stdout",
     "output_type": "stream",
     "text": [
      "서울특별시 성북구 고려대로26길 45-4\n"
     ]
    },
    {
     "name": "stderr",
     "output_type": "stream",
     "text": [
      "\n",
      "\n",
      "\n",
      "\n",
      "\n",
      " 87%|██████████████████████████████████████████████████████████████████████▋          | 89/102 [04:59<00:42,  3.27s/it]"
     ]
    },
    {
     "name": "stdout",
     "output_type": "stream",
     "text": [
      "서울특별시 성북구 고려대로28길 6 사이룩스빌딩\n"
     ]
    },
    {
     "name": "stderr",
     "output_type": "stream",
     "text": [
      "\n",
      "\n",
      "\n",
      "\n",
      "\n",
      " 88%|███████████████████████████████████████████████████████████████████████▍         | 90/102 [05:02<00:38,  3.23s/it]"
     ]
    },
    {
     "name": "stdout",
     "output_type": "stream",
     "text": [
      "서울 성북구 고려대로 84\n"
     ]
    },
    {
     "name": "stderr",
     "output_type": "stream",
     "text": [
      "\n",
      "\n",
      "\n",
      "\n",
      "\n",
      " 89%|████████████████████████████████████████████████████████████████████████▎        | 91/102 [05:04<00:33,  3.02s/it]"
     ]
    },
    {
     "name": "stdout",
     "output_type": "stream",
     "text": [
      "서울 성북구 고려대로 90 2층\n"
     ]
    },
    {
     "name": "stderr",
     "output_type": "stream",
     "text": [
      "\n",
      "\n",
      "\n",
      "\n",
      "\n",
      " 90%|█████████████████████████████████████████████████████████████████████████        | 92/102 [05:08<00:32,  3.24s/it]"
     ]
    },
    {
     "name": "stdout",
     "output_type": "stream",
     "text": [
      "서울 성북구 고려대로24가길 14\n"
     ]
    },
    {
     "name": "stderr",
     "output_type": "stream",
     "text": [
      "\n",
      "\n",
      "\n",
      "\n",
      "\n",
      " 91%|█████████████████████████████████████████████████████████████████████████▊       | 93/102 [05:11<00:29,  3.27s/it]"
     ]
    },
    {
     "name": "stdout",
     "output_type": "stream",
     "text": [
      "서울 성북구 고려대로 24길 61 (2,3층)\n"
     ]
    },
    {
     "name": "stderr",
     "output_type": "stream",
     "text": [
      "\n",
      "\n",
      "\n",
      "\n",
      "\n",
      " 92%|██████████████████████████████████████████████████████████████████████████▋      | 94/102 [05:16<00:28,  3.60s/it]"
     ]
    },
    {
     "name": "stdout",
     "output_type": "stream",
     "text": [
      "서울 성북구 안암로 77\n"
     ]
    },
    {
     "name": "stderr",
     "output_type": "stream",
     "text": [
      "\n",
      "\n",
      "\n",
      "\n",
      "\n",
      " 93%|███████████████████████████████████████████████████████████████████████████▍     | 95/102 [05:19<00:23,  3.38s/it]"
     ]
    },
    {
     "name": "stdout",
     "output_type": "stream",
     "text": [
      "서울 성북구 고려대로26길 42-3\n"
     ]
    },
    {
     "name": "stderr",
     "output_type": "stream",
     "text": [
      "\n",
      "\n",
      "\n",
      "\n",
      "\n",
      " 94%|████████████████████████████████████████████████████████████████████████████▏    | 96/102 [05:22<00:19,  3.23s/it]"
     ]
    },
    {
     "name": "stdout",
     "output_type": "stream",
     "text": [
      "서울특별시 성북구 고려대로24가길 11\n"
     ]
    },
    {
     "name": "stderr",
     "output_type": "stream",
     "text": [
      "\n",
      "\n",
      "\n",
      "\n",
      "\n",
      " 95%|█████████████████████████████████████████████████████████████████████████████    | 97/102 [05:25<00:16,  3.23s/it]"
     ]
    },
    {
     "name": "stdout",
     "output_type": "stream",
     "text": [
      "서울 성북구 고려대로 26길 55 지하\n"
     ]
    },
    {
     "name": "stderr",
     "output_type": "stream",
     "text": [
      "\n",
      "\n",
      "\n",
      "\n",
      "\n",
      " 96%|█████████████████████████████████████████████████████████████████████████████▊   | 98/102 [05:28<00:12,  3.17s/it]"
     ]
    },
    {
     "name": "stdout",
     "output_type": "stream",
     "text": [
      "서울 성북구 안암동5가 104-23\n"
     ]
    },
    {
     "name": "stderr",
     "output_type": "stream",
     "text": [
      "\n",
      "\n",
      "\n",
      "\n",
      "\n",
      " 97%|██████████████████████████████████████████████████████████████████████████████▌  | 99/102 [05:31<00:09,  3.23s/it]"
     ]
    },
    {
     "name": "stdout",
     "output_type": "stream",
     "text": [
      "서울 성북구 고려대로 26길 55 지하\n"
     ]
    },
    {
     "name": "stderr",
     "output_type": "stream",
     "text": [
      "\n",
      "\n",
      "\n",
      "\n",
      "\n",
      " 98%|██████████████████████████████████████████████████████████████████████████████▍ | 100/102 [05:34<00:06,  3.12s/it]"
     ]
    },
    {
     "name": "stdout",
     "output_type": "stream",
     "text": [
      "서울 성북구 고려대로24길 55\n"
     ]
    },
    {
     "name": "stderr",
     "output_type": "stream",
     "text": [
      "\n",
      "\n",
      "\n",
      "\n",
      "\n",
      " 99%|███████████████████████████████████████████████████████████████████████████████▏| 101/102 [05:38<00:03,  3.23s/it]"
     ]
    },
    {
     "name": "stdout",
     "output_type": "stream",
     "text": [
      "서울 성북구 고려대로24길 36\n"
     ]
    },
    {
     "name": "stderr",
     "output_type": "stream",
     "text": [
      "\n",
      "\n",
      "\n",
      "\n",
      "\n",
      "100%|████████████████████████████████████████████████████████████████████████████████| 102/102 [05:40<00:00,  3.34s/it]\n"
     ]
    }
   ],
   "source": [
    "for i in tqdm(range(329,len(rest_list))):\n",
    "    try:\n",
    "        address(i)\n",
    "        \n",
    "    except: \n",
    "        address_list.append(\"x\")\n",
    "        print(i)\n",
    "        turnback = driver.find_element_by_xpath('//*[@id=\"topbar\"]/div[2]/i')\n",
    "        turnback.click()\n",
    "        pass"
   ]
  },
  {
   "cell_type": "code",
   "execution_count": 65,
   "metadata": {},
   "outputs": [
    {
     "data": {
      "text/plain": [
       "['서울 동대문구 제기로2길 15',\n",
       " '서울 동대문구 제기로 2-1',\n",
       " '서울 동대문구 제기로 23 1층',\n",
       " '서울 동대문구 제기로 7-1',\n",
       " '서울 동대문구 제기로6길 14-2',\n",
       " '서울 동대문구 제기로2길 15',\n",
       " '서울 동대문구 안암로 118-5',\n",
       " '서울 동대문구 제기로 15',\n",
       " '서울 동대문구 제기로 2길 8',\n",
       " '서울 성북구 안암로 117',\n",
       " '서울 동대문구 안암로18가길 32',\n",
       " '서울 동대문구 제기로 12-1',\n",
       " '서울 동대문구 안암로 118-1',\n",
       " '서울 동대문구 용두동 232-26',\n",
       " '서울 동대문구 제기로 15',\n",
       " '서울 동대문구 제기로2길 5',\n",
       " '서울 동대문구 제기로 2-1',\n",
       " '서울 동대문구 제기로 15',\n",
       " '서울시 동대문구 제기로6길 5, 1층',\n",
       " '서울 동대문구 제기로 2 1층',\n",
       " '서울 동대문구 안암로 122-1',\n",
       " '서울 동대문구 제기로2길 4 (2층)',\n",
       " '서울 동대문구 제기로2',\n",
       " '서울 동대문구 제기로 3-1',\n",
       " '서울 동대문구 제기로2길 14',\n",
       " '서울특별시 성북구 종암동 34-3',\n",
       " '서울 성북구 북악산로31길 39',\n",
       " '서울 성북구 북악산로31길 33',\n",
       " '서울특별시 성북구 북악산로 1059',\n",
       " 'x',\n",
       " '서울 성북구 종암로 69 1층',\n",
       " '서울 성북구 북악산로 1061',\n",
       " '서울 성북구 월곡로 59',\n",
       " '서울 성북구 북악산로31길 39',\n",
       " '서울 성북구 종암로5길 29',\n",
       " '서울 성북구 북악산로 1062',\n",
       " '서울 성북구 종암로 54',\n",
       " '서울 성북구 종암동 23-62',\n",
       " '서울 성북구 종암로 25',\n",
       " '서울 성북구 종암로 23',\n",
       " '서울 성북구 개운사길 18',\n",
       " '서울 성북구 북악산로 1057',\n",
       " '서울 성북구 북악산로31길 39 1층',\n",
       " '서울 성북구 북악산로 1064',\n",
       " '서울 성북구 종암로3길 13',\n",
       " '서울 성북구 종암로14길 6-26',\n",
       " '서울 성북구 종암로9길 3',\n",
       " '서울 성북구 종암로9길 3 1층',\n",
       " '서울 성북구 북악산로 1055',\n",
       " '서울 성북구 종암로5길 9-13',\n",
       " 'x',\n",
       " '서울 성북구 종암로9길 3',\n",
       " '서울 성북구 종암로 58',\n",
       " '서울 성북구 종암로 54',\n",
       " '서울 성북구 북악산로29길 30',\n",
       " '서울 성북구 북악산로29길 21',\n",
       " '서울 성북구 북악산로29길 7',\n",
       " '서울 성북구 종암로 54',\n",
       " '서울 성북구 종암로14길 6-21',\n",
       " '서울 성북구 종암로 68',\n",
       " '서울 성북구 종암로5길 9-3',\n",
       " '서울 성북구 안암로 73-9',\n",
       " '서울 성북구 안암로 69-1',\n",
       " '서울 성북구 안암로 61-6',\n",
       " '서울시 동대문구 약령시로 5-1',\n",
       " '서울 동대문구 안암로 80-1 2층',\n",
       " '서울 성북구 안암로9가길 80-17',\n",
       " '서울 성북구 안암로 73-5 2층',\n",
       " '서울 동대문구 약령시로 9',\n",
       " '서울 성북구 안암로9가길 101',\n",
       " '서울 성북구 안암로9가길 98',\n",
       " '서울 성북구 안암로 77',\n",
       " '서울 동대문구 무학로 144',\n",
       " '서울특별시 성북구 고려대로22길 61',\n",
       " '서울 성북구 안암로9가길 94',\n",
       " '서울 성북구 안암로 73',\n",
       " '서울 성북구 안암로9가길 76',\n",
       " '서울 성북구 안암로 73',\n",
       " '서울 동대문구 용두동 727-1',\n",
       " '서울 성북구 안암로9가길 80-17 1층',\n",
       " '서울 성북구 안암로9가길 57 지하1층',\n",
       " '서울 성북구 안암로 77',\n",
       " '서울 성북구 안암로9가길 97',\n",
       " '서울 성북구 안암로9가길 91 1층',\n",
       " 'x',\n",
       " '서울 성북구 안암로77',\n",
       " '서울 성북구 안암로 69-1',\n",
       " '서울 동대문구 안암로 86',\n",
       " '서울 동대문구 안암로16길 30',\n",
       " '서울 동대문구 약령시로 14',\n",
       " '서울 동대문구 약령시로3 B1층',\n",
       " '서울 동대문구 약령시로 10',\n",
       " '서울 동대문구 안암로 66',\n",
       " '서울 성북구 안암로9가길 82',\n",
       " '서울특별시 성북구 안암로9가길 76',\n",
       " '서울 성북구 안암로 77',\n",
       " '서울 동대문구 약령시로 3',\n",
       " '서울 동대문구 무학로 198-1',\n",
       " '서울 성북구 안암로9가길 100',\n",
       " '서울 성북구 안암로 73-9',\n",
       " '서울 성북구 안암로9가길 80-17',\n",
       " '서울 성북구 안암로 69-1',\n",
       " '서울 성북구 안암로 61-6',\n",
       " '서울 성북구 고려대로 47',\n",
       " '서울시 동대문구 약령시로 5-1',\n",
       " '서울 동대문구 안암로 80-1 2층',\n",
       " '서울 성북구 안암로9가길 80-17',\n",
       " '서울 성북구 안암로 73-5 2층',\n",
       " '서울 성북구 안암로9가길 80-8',\n",
       " '서울 동대문구 약령시로 9',\n",
       " '서울 성북구 안암로9가길 101',\n",
       " '서울 성북구 안암로9가길 98',\n",
       " '서울 성북구 안암로 77',\n",
       " '서울 동대문구 무학로 144',\n",
       " '서울 성북구 안암로9가길 99',\n",
       " '서울 성북구 고려대로 10-2',\n",
       " '서울특별시 성북구 안암로9가길 93',\n",
       " '서울 성북구 안암로9가길 94',\n",
       " '서울 동대문구 무학로 200',\n",
       " '서울 성북구 안암로 73',\n",
       " '서울 성북구 안암로9가길 80-17 1층',\n",
       " 'x',\n",
       " '서울 성북구 안암로9가길 85',\n",
       " '서울 성북구 안암로9가길 57 지하1층',\n",
       " '서울 성북구 고려대로13길 10-3',\n",
       " '서울 성북구 안암로 65',\n",
       " '서울 성북구 고려대로24길 58-5 2층',\n",
       " '서울 성북구 안암로 71',\n",
       " '서울 성북구 고려대로24길 58-5',\n",
       " '서울 성북구 안암로9가길 97',\n",
       " '서울 성북구 안암로9가길 91 1층',\n",
       " '서울 성북구 고려대로24길 56',\n",
       " '서울 성북구 고려대로 27길 47',\n",
       " '서울 성북구 고려대로 76',\n",
       " '서울 성북구 안암로 73-5',\n",
       " '서울 성북구 고려대로13길 43',\n",
       " '서울 동대문구 안암로 68',\n",
       " '서울 성북구 안암로 61-6 지하1층',\n",
       " '서울 성북구 안암로 69-1',\n",
       " '서울 성북구 안암로 69-1',\n",
       " '서울 성북구 안암로9가길 93',\n",
       " '서울 성북구 안암로 63 1층',\n",
       " '서울 성북구 안암로 73-3',\n",
       " '서울 동대문구 약령시로 10',\n",
       " '서울 동대문구 안암로 66',\n",
       " '서울 성북구 안암로9가길 82',\n",
       " '서울 성북구 안암로9가길 87',\n",
       " '서울 성북구 안암로9가길 80-6',\n",
       " '서울 성북구 고려대로 13길 10-2',\n",
       " '서울 동대문구 약령시로 3',\n",
       " '서울 동대문구 무학로 198-1',\n",
       " '서울 성북구 안암로9가길 76',\n",
       " '서울특별시 성북구 고려대로7길 20',\n",
       " '서울 동대문구 무학로 194-1',\n",
       " '서울 동대문구 안암로24길 4',\n",
       " '서울 동대문구 제기동 137-78 크림슨하우스 1층',\n",
       " '서울 동대문구 제기로 53-16',\n",
       " '서울 동대문구 제기로5길 35',\n",
       " '서울 동대문구 제기로5길 36',\n",
       " '서울 동대문구 안암로 154',\n",
       " '서울 성북구 회기로3길 2',\n",
       " '서울 동대문구 안암로 132 (1,2층)',\n",
       " '서울 동대문구 안암로22길 16 지하1층',\n",
       " '서울 동대문구 안암로24길 5 1층',\n",
       " '서울 동대문구 회기로8길 11',\n",
       " '서울 동대문구 회기로 14',\n",
       " '서울 동대문구 안암로22길 5',\n",
       " '서울 동대문구 고산자로 56길 17',\n",
       " '서울 동대문구 제기로5길 35',\n",
       " '서울 동대문구 고산자로56길 75',\n",
       " '서울 동대문구 안암로 148-1',\n",
       " '서울 동대문구 안암로24길 5 2층',\n",
       " '서울 동대문구 제기로5길 38 (2층)',\n",
       " '서울 성북구 회기로7',\n",
       " '서울 동대문구 안암로24길 8',\n",
       " '서울 동대문구 안암로 160 1층',\n",
       " '서울 동대문구 안암로22길 6',\n",
       " '서울 동대문구 안암로 138',\n",
       " '서울 성북구 회기로3길 2',\n",
       " '동대문구 제기동 136-53 2층',\n",
       " '서울 동대문구 안암로22길 16',\n",
       " '서울 동대문구 제기로5길 35',\n",
       " '서울 동대문구 고산자로 539-1',\n",
       " '서울 동대문구 고산자로 553',\n",
       " '서울특별시 동대문구 안암로 158-1 1층',\n",
       " '서울 동대문구 안암로24길 15',\n",
       " '서울 동대문구 종암로 2-1',\n",
       " '서울 동대문구 안암로20길 16',\n",
       " '서울 동대문구 안암로20길 7-15',\n",
       " '서울 동대문구 제기동 137-477',\n",
       " '서울 성북구 회기로3길 2',\n",
       " '서울 동대문구 제기로5길 28',\n",
       " '서울 동대문구 안암로24길 9',\n",
       " '서울 성북구 회기로 11',\n",
       " '서울 동대문구 안암로 158-1',\n",
       " '서울 동대문구 제기로5길 40',\n",
       " '서울 동대문구 제기로 25',\n",
       " '서울 동대문구 안암로 158 1층',\n",
       " '서울 동대문구 안암로 140',\n",
       " '서울 동대문구 안암로22길 9',\n",
       " '서울 동대문구 안암로 160-1',\n",
       " '서울 동대문구 안암로 136-1',\n",
       " '서울 동대문구 안암로24길 9',\n",
       " '서울 동대문구 회기로2길 2',\n",
       " '서울 동대문구 고산자로 549-1',\n",
       " '서울 동대문구 회기로 26',\n",
       " '서울 동대문구 안암로24길 4 (꼭대기층)',\n",
       " '서울 동대문구 제기로5길 25',\n",
       " '서울 동대문구 안암로24길 31-6',\n",
       " '서울 동대문구 회기로 16-1',\n",
       " '서울 동대문구 안암로20길 19',\n",
       " '서울 동대문구 제기동 137-97',\n",
       " '서울 동대문구 안암로20길 7-4',\n",
       " '서울 성북구 회기로 3',\n",
       " '서울 동대문구 제기로 15',\n",
       " '서울 동대문구 회기로4길 16',\n",
       " '서울 동대문구 안암로 164 1층',\n",
       " '서울특별시 동대문구 고산자로56길 7',\n",
       " '서울 동대문구 회기로 24',\n",
       " '서울 동대문구 고산자로 560',\n",
       " '서울 성북구 회기로 5',\n",
       " 'x',\n",
       " '서울 동대문구 안암로24길 4',\n",
       " '서울 동대문구 안암로 162',\n",
       " '서울 동대문구 고산자로60길 49',\n",
       " '서울 동대문구 안암로22길 8',\n",
       " '서울 동대문구 제기동 137-190',\n",
       " '서울 성북구 회기로 15-2',\n",
       " '서울 동대문구 제기로 9-4',\n",
       " '서울 동대문구 회기로8길 4',\n",
       " '서울 성북구 개운사길 27 1층',\n",
       " '서울 성북구 고려대로27길 42',\n",
       " '서울 성북구 고려대로27길 40',\n",
       " '서울 성북구 고려대로27길 15',\n",
       " '서울 성북구 고려대로27길 24-2',\n",
       " '서울 성북구 고려대로27길 20',\n",
       " '서울 성북구 개운사길 21-3',\n",
       " '서울 성북구 개운사길 45',\n",
       " '서울 성북구 개운사길 32',\n",
       " '서울특별시 성북구 개운사1길 29',\n",
       " '서울 성북구 개운사길 22-6',\n",
       " '서울 성북구 개운사길 19',\n",
       " '서울 성북구 고려대로27길 28',\n",
       " '서울 성북구 개운사길25 지하1층',\n",
       " '서울시 성북구 개운사길 52',\n",
       " '서울 성북구 고려대로27길 14-4',\n",
       " '서울 성북구 고려대로27길 14-3',\n",
       " '서울 성북구 개운사길 21-4',\n",
       " '서울 성북구 개운사길 30 (2층)',\n",
       " '서울특별시 성북구 개운사길 22-3',\n",
       " '서울 성북구 개운사길 18',\n",
       " '서울 성북구 개운사길 21-3',\n",
       " '서울 성북구 개운사길 11',\n",
       " '서울 성북구 개운사길 18',\n",
       " '서울 성북구 안암동 5가 100-4 2층',\n",
       " '서울 성북구 고려대로27길 24-2',\n",
       " '서울 성북구 개운사1길 23',\n",
       " '서울 성북구 개운사길 42-4 1층',\n",
       " '서울 성북구 고려대로27길 15',\n",
       " '서울 성북구 개운사길 2',\n",
       " '서울 성북구 고려대로27길 13',\n",
       " '서울 성북구 개운사길 22-4',\n",
       " '서울 성북구 고려대로27길 14',\n",
       " '서울 성북구 개운사길 22-3 2층',\n",
       " '서울 성북구 고려대로 27길 24-2',\n",
       " '서울 성북구 개운사길 45',\n",
       " '서울 성북구 고려대로27길 24-1',\n",
       " '서울 성북구 개운사길 19',\n",
       " '서울 성북구 개운사길 34',\n",
       " '서울 성북구 고려대로27길 20',\n",
       " '서울 성북구 개운사길 22-6 2층',\n",
       " '서울 성북구 개운사길 5 지하1층',\n",
       " '서울 성북구 고려대로27길 14 2층',\n",
       " '서울 성북구 고려대로27길 20',\n",
       " '서울특별시 성북구 고려대로27길 3',\n",
       " '서울 성북구 개운사길 22-6',\n",
       " '서울 성북구 개운사길 18',\n",
       " '서울 성북구 안암로9가길 94',\n",
       " '서울특별시 성북구 안암동5가 53',\n",
       " '서울 성북구 고려대로27길 25',\n",
       " '서울 성북구 개운사길 22-5',\n",
       " '서울 성북구 개운사길 22-6',\n",
       " '서울 성북구 개운사길 22-2',\n",
       " '서울 성북구 개운사길 15',\n",
       " '서울 성북구 개운사길 5 (2층)',\n",
       " '서울특별시 성북구 고려대로28길 7-6',\n",
       " '서울 성북구 개운사길 27 2층',\n",
       " '서울 성북구 고려대로27길 14',\n",
       " '서울 성북구 개운사길19 1층',\n",
       " '서울 성북구 고려대로 102 1층',\n",
       " '개운사 입구쪽에 트럭으로 있음',\n",
       " '서울 성북구 개운사길 38',\n",
       " '서울 성북구 고려대로 91-1',\n",
       " '서울 성북구 개운사길 12',\n",
       " '서울 성북구 개운사길 28',\n",
       " '서울 성북구 개운사길 8 3층',\n",
       " 'x',\n",
       " 'x',\n",
       " 'x',\n",
       " 'x',\n",
       " 'x',\n",
       " 'x',\n",
       " '서울 성북구 고려대로24가길 13 1층',\n",
       " '서울특별시 성북구 고려대로24길 39',\n",
       " '서울 성북구 고려대로28길 14',\n",
       " '서울 성북구 고려대로24길 3-44',\n",
       " '서울 성북구 고려대로24길 27 2층',\n",
       " '서울시 성북구 고려대로28길 14',\n",
       " '서울 성북구 고려대로 102-1 4층',\n",
       " '서울 성북구 고려대로24길 6',\n",
       " '서울 성북구 안암로 87-5',\n",
       " '서울 성북구 고려대로24가길 14-1',\n",
       " '서울 성북구 안암로 103',\n",
       " '서울 성북구 안암로 91',\n",
       " '서울 성북구 고려대로28길 6',\n",
       " '서울특별시 성북구 고려대로28길 21',\n",
       " '서울특별시 성북구 고려대로24길 16 (2층)',\n",
       " '서울 성북구 고려대로24길 3-36 1층',\n",
       " '서울 성북구 고려대로24길 20 2층',\n",
       " '서울 성북구 고려대로28길 11',\n",
       " '서울 성북구 고려대로26길 39',\n",
       " '서울 성북구 고려대로24길 45 (2층)',\n",
       " '서울 성북구 고려대로 28길 20',\n",
       " '서울시 성북구 안암동5가 104-116 (3층)',\n",
       " '서울 성북구 고려대로24가길 27',\n",
       " '서울 성북구 안암동5가 104-230',\n",
       " '서울 성북구 고려대로24길 37',\n",
       " '서울 성북구 고려대로24길 20',\n",
       " 'x',\n",
       " '서울 성북구 고려대로24길 25',\n",
       " '서울 성북구 고려대로24길 3-3(2층)',\n",
       " '서울 성북구 고려대로24길 3-44',\n",
       " '서울 성북구 고려대로24길 20 1층',\n",
       " '서울 성북구 고려대로24길 5 2층',\n",
       " '서울 성북구 고려대로28길 5',\n",
       " '서울 성북구 고려대로24길 39 2층',\n",
       " '서울 성북구 고려대로24길 31 2층',\n",
       " '서울 성북구 안암로 77',\n",
       " '서울 성북구 고려대로24길 35 2층',\n",
       " '서울 성북구 고려대로26길 55',\n",
       " '서울 성북구 고려대로26길 51',\n",
       " '서울 성북구 고려대로26길 37',\n",
       " '서울 성북구 고려대로28길 20',\n",
       " '서울 성북구 고려대로28길 17',\n",
       " '서울특별시 성북구 안암로 103',\n",
       " '서울 성북구 고려대로24길 45 3층',\n",
       " '서울 성북구 안암로 81',\n",
       " '서울 성북구 고려대로24길 16',\n",
       " '서울 성북구 고려대로28길 2',\n",
       " '서울 성북구 고려대로 96',\n",
       " '서울 성북구 안암로 89-5',\n",
       " '서울 성북구 고려대로24길 56 지하1층',\n",
       " '서울 성북구 고려대로 102',\n",
       " '서울 성북구 안암로 91',\n",
       " '서울 성북구 고려대로24길 55',\n",
       " '서울 성북구 고려대로24길 47 2층',\n",
       " '서울특별시 성북구 고려대로24길 27',\n",
       " '서울 성북구 고려대로24길 32',\n",
       " '서울 성북구 고려대로24가길 13-2',\n",
       " '서울 성북구 고려대로24길 42',\n",
       " '서울 성북구 고려대로 88',\n",
       " '서울 성북구 고려대로24길 24',\n",
       " '서울 성북구 고려대로26길 5',\n",
       " '서울 성북구 고려대로24가길 6 2층',\n",
       " '서울 성북구 안암로 77',\n",
       " '서울 성북구 안암로 77',\n",
       " '서울 성북구 고려대로24길 44',\n",
       " '서울 성북구 고려대로24길 55 2층',\n",
       " '서울특별시 성북구 고려대로24길 3-42',\n",
       " '서울특별시 성북구 고려대로24가길 11',\n",
       " '서울 성북구 고려대로24길 48 1층',\n",
       " '서울 성북구 고려대로24길 58-5 2층',\n",
       " '서울 성북구 고려대로24길 61 지하1층',\n",
       " '서울 성북구 고려대로26길 55',\n",
       " '서울 동대문구 안암로22길 6',\n",
       " '서울특별시 성북구 고려대로24길 44 (2층)',\n",
       " '서울 성북구 고려대로26길 42-1',\n",
       " '서울 성북구 고려대로 88',\n",
       " '서울 성북구 고려대로24길 6 2층',\n",
       " '서울 성북구 고려대로24길 61',\n",
       " '서울 성북구 고려대로24길 51',\n",
       " '서울 성북구 고려대로22길 19',\n",
       " '서울특별시 성북구 고려대로24길 44',\n",
       " '서울 성북구 고려대로24길 52',\n",
       " '서울 성북구 안암로 81-4 3층',\n",
       " '서울특별시 성북구 고려대로26길 9',\n",
       " '서울 성북구 고려대로24길 8',\n",
       " '서울 성북구 고려대로24길 63',\n",
       " '서울 성북구 고려대로24길 56',\n",
       " '서울 성북구 고려대로24길 3-28',\n",
       " '서울 성북구 고려대로24길 47',\n",
       " '서울 성북구 고려대로 92',\n",
       " '서울 성북구 고려대로24가길 1',\n",
       " '서울 성북구 고려대로24길15 2,3층',\n",
       " '서울 성북구 고려대로24길 3-42 (2층)',\n",
       " '서울 성북구 고려대로24길 12',\n",
       " '서울 성북구 고려대로22길 5',\n",
       " '서울 성북구 안암로 89-3',\n",
       " '서울 성북구 안암로77',\n",
       " '서울 성북구 고려대로24길 36',\n",
       " '서울 성북구 고려대로26길 42-4',\n",
       " '서울 성북구 고려대로26길 42-3 2층',\n",
       " '서울 성북구 고려대로24길 61',\n",
       " '서울 성북구 고려대로24길 3-3',\n",
       " '서울 성북구 안암로 81-4 1층',\n",
       " '서울 성북구 고려대로 100',\n",
       " '서울 성북구 고려대로24길 14',\n",
       " '서울특별시 성북구 고려대로26길 32 1F',\n",
       " '서울 성북구 고려대로24길 36',\n",
       " '서울 성북구 고려대로24길 9',\n",
       " '서울 성북구 고려대로24가길 7',\n",
       " '서울특별시 성북구 고려대로24길 28',\n",
       " '서울 성북구 고려대로26길 42-2',\n",
       " '서울 성북구 고려대로26길 39',\n",
       " '서울시 성북구 고려대로 24길 16 (3층)',\n",
       " '서울 성북구 고려대로26길 38',\n",
       " '서울 성북구 고려대로24길 39',\n",
       " '서울특별시 성북구 고려대로26길 45-4',\n",
       " '서울특별시 성북구 고려대로28길 6 사이룩스빌딩',\n",
       " '서울 성북구 고려대로 84',\n",
       " '서울 성북구 고려대로 90 2층',\n",
       " '서울 성북구 고려대로24가길 14',\n",
       " '서울 성북구 고려대로 24길 61 (2,3층)',\n",
       " '서울 성북구 안암로 77',\n",
       " '서울 성북구 고려대로26길 42-3',\n",
       " '서울특별시 성북구 고려대로24가길 11',\n",
       " '서울 성북구 고려대로 26길 55 지하',\n",
       " '서울 성북구 안암동5가 104-23',\n",
       " '서울 성북구 고려대로 26길 55 지하',\n",
       " '서울 성북구 고려대로24길 55',\n",
       " '서울 성북구 고려대로24길 36']"
      ]
     },
     "execution_count": 65,
     "metadata": {},
     "output_type": "execute_result"
    }
   ],
   "source": [
    "address_list"
   ]
  },
  {
   "cell_type": "code",
   "execution_count": 43,
   "metadata": {},
   "outputs": [],
   "source": [
    "# 중간에끊겼던거 기억해두자 (멕시카나치킨, 215)\n",
    "# 참살이 찌개집 추가\n",
    "# 놀부부대찌개, 철판고기? 에러날거임\n",
    "\n",
    "# save = pd.DataFrame(columns=[])\n",
    "# save['이름'] = rest_list"
   ]
  },
  {
   "cell_type": "code",
   "execution_count": 49,
   "metadata": {},
   "outputs": [],
   "source": [
    "# save1 = pd.DataFrame(columns=[])\n",
    "# save1['주소'] = address_list\n",
    "# save1['이름'] = rest_list[0:len(address_list)]"
   ]
  },
  {
   "cell_type": "code",
   "execution_count": 51,
   "metadata": {},
   "outputs": [],
   "source": [
    "# save1.to_excel('C:\\\\Users\\\\remig\\\\OneDrive\\\\바탕 화면\\\\save1.xlsx')"
   ]
  },
  {
   "cell_type": "code",
   "execution_count": 68,
   "metadata": {},
   "outputs": [],
   "source": [
    "final = pd.DataFrame(columns=[])\n",
    "\n",
    "final['이름'] = rest_list\n",
    "final['주소'] = address_list"
   ]
  },
  {
   "cell_type": "code",
   "execution_count": 70,
   "metadata": {},
   "outputs": [],
   "source": [
    "final.to_excel('C:\\\\Users\\\\remig\\\\OneDrive\\\\바탕 화면\\\\final.xlsx')"
   ]
  },
  {
   "cell_type": "code",
   "execution_count": null,
   "metadata": {},
   "outputs": [],
   "source": []
  }
 ],
 "metadata": {
  "kernelspec": {
   "display_name": "Python 3",
   "language": "python",
   "name": "python3"
  },
  "language_info": {
   "codemirror_mode": {
    "name": "ipython",
    "version": 3
   },
   "file_extension": ".py",
   "mimetype": "text/x-python",
   "name": "python",
   "nbconvert_exporter": "python",
   "pygments_lexer": "ipython3",
   "version": "3.7.3"
  }
 },
 "nbformat": 4,
 "nbformat_minor": 2
}
